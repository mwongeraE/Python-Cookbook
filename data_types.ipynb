{
 "metadata": {
  "language_info": {
   "codemirror_mode": {
    "name": "ipython",
    "version": 3
   },
   "file_extension": ".py",
   "mimetype": "text/x-python",
   "name": "python",
   "nbconvert_exporter": "python",
   "pygments_lexer": "ipython3",
   "version": "3.9.5"
  },
  "orig_nbformat": 2,
  "kernelspec": {
   "name": "python395jvsc74a57bd08f27c3272b7ea170fa54a6cc27432780cd99d82353513886b6195111980c1039",
   "display_name": "Python 3.9.5 64-bit ('PythonSoftwareFoundation.Python.3.9_qbz5n2kfra8p0')"
  },
  "metadata": {
   "interpreter": {
    "hash": "8f27c3272b7ea170fa54a6cc27432780cd99d82353513886b6195111980c1039"
   }
  }
 },
 "nbformat": 4,
 "nbformat_minor": 2,
 "cells": [
  {
   "cell_type": "code",
   "execution_count": 24,
   "source": [
    "num = -45\r\n",
    "print(\"num\", num)\r\n",
    "\r\n",
    "num2 = 100 - 45\r\n",
    "print(\"num2\", num2)\r\n",
    "\r\n",
    "#floating-point numbers\r\n",
    "num3 = 27.5\r\n",
    "print(\"num3\", num3)\r\n",
    "\r\n",
    "#boolean\r\n",
    "is_it_true = 5 > 8\r\n",
    "is_it_true\r\n",
    "\r\n",
    "#strings\r\n",
    "string_a = 'A string in single quotes.'\r\n",
    "string_b = \"A string in double quotes.\"\r\n",
    "print(string_a)\r\n",
    "print(string_b)\r\n",
    "\r\n"
   ],
   "outputs": [
    {
     "output_type": "stream",
     "name": "stdout",
     "text": [
      "num -45\n",
      "num2 55\n",
      "num3 27.5\n",
      "A string in single quotes.\n",
      "A string in double quotes.\n"
     ]
    }
   ],
   "metadata": {}
  },
  {
   "cell_type": "code",
   "execution_count": 23,
   "source": [
    "#Lists\r\n",
    "nums_list = [-3, -2, -1, 0, 1, 2, 3]\r\n",
    "distros = ['Ubuntu', 'Manjaro', 'Mint']\r\n",
    "\r\n",
    "combined = [2, 3, 'papa', 'squid']\r\n",
    "\r\n",
    "print(nums_list)\r\n",
    "print(distros)\r\n",
    "print(combined)\r\n"
   ],
   "outputs": [
    {
     "output_type": "stream",
     "name": "stdout",
     "text": [
      "[-3, -2, -1, 0, 1, 2, 3]\n",
      "['Ubuntu', 'Manjaro', 'Mint']\n",
      "[2, 3, 'papa', 'squid']\n"
     ]
    }
   ],
   "metadata": {}
  },
  {
   "cell_type": "code",
   "execution_count": 22,
   "source": [
    "#tuples\r\n",
    "distros_tuple = ('Ubuntu', 'Manjaro', 'Mint')\r\n",
    "print(distros_tuple)"
   ],
   "outputs": [
    {
     "output_type": "stream",
     "name": "stdout",
     "text": [
      "('Ubuntu', 'Manjaro', 'Mint')\n"
     ]
    }
   ],
   "metadata": {}
  },
  {
   "cell_type": "code",
   "execution_count": 26,
   "source": [
    "#sets\r\n",
    "new_set = set() #declare empty set\r\n",
    "\r\n",
    "even_nums = {2, 4, 6, 8, 10} \r\n",
    "odd_nums = set([1, 3, 5, 7, 9])\r\n",
    "data = {1, 'Mapete', 10.5, True} # distinct values\r\n",
    "\r\n",
    "print(even_nums)\r\n",
    "print(odd_nums)\r\n",
    "print(data)\r\n",
    "\r\n",
    "nums = {1, 2, 2, 3, 4, 4, 5, 5}\r\n",
    "print(nums)\r\n"
   ],
   "outputs": [
    {
     "output_type": "stream",
     "name": "stdout",
     "text": [
      "{2, 4, 6, 8, 10}\n",
      "{1, 3, 5, 7, 9}\n",
      "{1, 10.5, 'Mapete'}\n",
      "{1, 2, 3, 4, 5}\n"
     ]
    }
   ],
   "metadata": {}
  },
  {
   "cell_type": "code",
   "execution_count": 27,
   "source": [
    "#Dictionaries\r\n",
    "\r\n",
    "# Declare using {}\r\n",
    "person = {\r\n",
    "    'name': 'Sifu', \r\n",
    "    'age': 19, \r\n",
    "    'gender': 'Male'\r\n",
    "}\r\n",
    "\r\n",
    "# Declare using dict()\r\n",
    "person2 = dict({\r\n",
    "    'name': 'Master King', \r\n",
    "    'age': 91, \r\n",
    "    'gender': 'Male'\r\n",
    "})\r\n",
    "\r\n",
    "print(person['age'])\r\n",
    "print(person2['name'])"
   ],
   "outputs": [
    {
     "output_type": "stream",
     "name": "stdout",
     "text": [
      "19\n",
      "Master King\n"
     ]
    }
   ],
   "metadata": {}
  },
  {
   "cell_type": "code",
   "execution_count": 32,
   "source": [
    "#Check Data types\r\n",
    "\r\n",
    "num = 80\r\n",
    "print(isinstance(num, int))\r\n",
    "\r\n",
    "PI = 3.14\r\n",
    "print(isinstance(PI, float))\r\n",
    "\r\n",
    "domain = \"sifula.com\"\r\n",
    "print(isinstance(domain, str))\r\n",
    "\r\n",
    "names = [\"Mzinga\", \"Chrome Gin\", \"Martin\"]\r\n",
    "print(isinstance(names, list))"
   ],
   "outputs": [
    {
     "output_type": "stream",
     "name": "stdout",
     "text": [
      "True\n",
      "True\n",
      "True\n",
      "True\n"
     ]
    }
   ],
   "metadata": {}
  },
  {
   "cell_type": "code",
   "execution_count": 33,
   "source": [
    "#type\r\n",
    "nums = [1,2]\r\n",
    "print(type(nums))\r\n",
    "\r\n",
    "numbers_dict = {1: 'one', 2: 'two'}\r\n",
    "print(type(numbers_dict))"
   ],
   "outputs": [
    {
     "output_type": "stream",
     "name": "stdout",
     "text": [
      "<class 'list'>\n",
      "<class 'dict'>\n"
     ]
    }
   ],
   "metadata": {}
  },
  {
   "cell_type": "code",
   "execution_count": 36,
   "source": [
    "#Type casting\r\n",
    "#The process in which we convert a literal of one type to another\r\n",
    "\r\n",
    "#int conversion\r\n",
    "num = 100.05\r\n",
    "n = int(num)\r\n",
    "print(n)\r\n",
    "print(type(n))\r\n",
    "\r\n",
    "s = '132'\r\n",
    "n = int(s)\r\n",
    "print(n)\r\n",
    "print(type(n))\r\n"
   ],
   "outputs": [
    {
     "output_type": "stream",
     "name": "stdout",
     "text": [
      "100\n",
      "<class 'int'>\n",
      "132\n",
      "<class 'int'>\n"
     ]
    }
   ],
   "metadata": {}
  },
  {
   "cell_type": "code",
   "execution_count": 44,
   "source": [
    "#List iteration\r\n",
    "\r\n",
    "#Using For loop\r\n",
    "A = ['lenny', \"Kala\", 'Dingo', 1] \r\n",
    " \r\n",
    "for elem in A: \r\n",
    "    print(elem) \r\n",
    "\r\n",
    "#Using List Comprehesion\r\n",
    "A = ['John', \"Collins\", 'Dingo', 2] \r\n",
    "[print(x) for x in A]\r\n",
    "\r\n",
    "#Using for loop and range() function\r\n",
    "A = ['mary', \"Harris\", 'God', 3]  \r\n",
    "n = len(A) \r\n",
    "    \r\n",
    "for i in range(n): \r\n",
    "    print(A[i])\r\n",
    "\r\n",
    "#Using enumerate() function\r\n",
    "A = ['Eric', \"Kala\", 'Dingo', 4]\r\n",
    "\r\n",
    "for idx, elem in enumerate(A): \r\n",
    "    print(f'{idx}: {elem}')"
   ],
   "outputs": [
    {
     "output_type": "stream",
     "name": "stdout",
     "text": [
      "lenny\n",
      "Kala\n",
      "Dingo\n",
      "1\n",
      "John\n",
      "Collins\n",
      "Dingo\n",
      "2\n",
      "mary\n",
      "Harris\n",
      "God\n",
      "3\n",
      "0: Eric\n",
      "1: Kala\n",
      "2: Dingo\n",
      "3: 4\n"
     ]
    }
   ],
   "metadata": {}
  },
  {
   "cell_type": "code",
   "execution_count": 64,
   "source": [
    "# List Operations\r\n",
    "basket = ['bread', 'butter', 'milk']\r\n",
    "basket[0] = 'cake'\r\n",
    "print(basket)\r\n",
    "\r\n",
    "basket[-1] = 'water'\r\n",
    "print(basket)\r\n",
    "\r\n",
    "#Negative Indices\r\n",
    "colors = ['red', 'green', 'blue', 'yellow', 'white', 'black']\r\n",
    "print(colors[-1])\r\n",
    "print(colors[-2])\r\n",
    "\r\n",
    "#Append\r\n",
    "A = [1, 2]\r\n",
    "A.append('x')\r\n",
    "print(A)\r\n",
    "\r\n",
    "#Extend\r\n",
    "A = [1, 2]\r\n",
    "A.extend([3, 4])\r\n",
    "print(A)\r\n",
    "\r\n",
    "#Insert\r\n",
    "A = [1, 2]\r\n",
    "A.insert(0, 'x') # Insert x at position 0\r\n",
    "print(A)\r\n",
    "\r\n",
    "#Del\r\n",
    "A = [1, 2, 3]\r\n",
    "del A[1]\r\n",
    "print(A)\r\n",
    "\r\n",
    "A = [1, 2, 3, 4, 5]\r\n",
    "del A[:2] # Remove all upto index 2-1\r\n",
    "print(A)\r\n",
    "\r\n",
    "#pop\r\n",
    "L = ['red', 'green', 'blue']\r\n",
    "L.pop()\r\n",
    "print(L) # ['red', 'green']\r\n",
    "\r\n",
    "# Remove 2nd list item\r\n",
    "L = ['red', 'green', 'blue']\r\n",
    "L.pop(1) # ['red', 'blue']\r\n",
    "\r\n",
    "# Remove 2nd last item\r\n",
    "L = ['red', 'green', 'blue']\r\n",
    "L.pop(-2)\r\n",
    "print(L) # ['red', 'blue']\r\n",
    "\r\n",
    "#Reverse\r\n",
    "A = [1, 2, 3, 'x']\r\n",
    "A.reverse()\r\n",
    "print(A)\r\n",
    "\r\n",
    "#Sort\r\n",
    "A = [3, 2, 1, 4]\r\n",
    "A.sort() # Sort in ascending order\r\n",
    "print(A)\r\n",
    "\r\n",
    "A = [3, 2, 1, 4]\r\n",
    "A.sort(reverse=True) # Sort in descending order\r\n",
    "print(A)\r\n",
    "\r\n",
    "names = [\"Dan\", \"Dixans\", \"Best\", \"Kopat\", \"muhammad\"] \r\n",
    "names.sort(key=len) \r\n",
    "print(names)\r\n",
    "\r\n",
    "# + operation\r\n",
    "A1 = [1, 2, 3]\r\n",
    "A2 = [4, 5, 6]\r\n",
    "print(A1 + A2)\r\n",
    "\r\n",
    "# * operation\r\n",
    "A = [1, 2, 3]\r\n",
    "print(A*3)\r\n",
    "\r\n",
    "#Max, Min, Sum\r\n",
    "A = [40, 100, 3, 9, 4]\r\n",
    "print(max(A))\r\n",
    "print(min(A))\r\n",
    "print(sum(A))\r\n",
    "\r\n",
    "#Index\r\n",
    "A = [10, 30, 20]\r\n",
    "print(A.index(30)) # 1\r\n",
    "\r\n",
    "#Count\r\n",
    "A = [10, 30, 20, 30, 30]\r\n",
    "print(A.count(30))\r\n",
    "\r\n",
    "#in\r\n",
    "A = ['h', 2, 'x', 6, 9]\r\n",
    "print('x' in A)\r\n",
    "print('b' in A)"
   ],
   "outputs": [
    {
     "output_type": "stream",
     "name": "stdout",
     "text": [
      "['cake', 'butter', 'milk']\n",
      "['cake', 'butter', 'water']\n",
      "black\n",
      "white\n",
      "[1, 2, 'x']\n",
      "[1, 2, 3, 4]\n",
      "['x', 1, 2]\n",
      "[1, 3]\n",
      "[3, 4, 5]\n",
      "['red', 'green']\n",
      "['red', 'blue']\n",
      "['x', 3, 2, 1]\n",
      "[1, 2, 3, 4]\n",
      "[4, 3, 2, 1]\n",
      "['Dan', 'Best', 'Kopat', 'Dixans', 'muhammad']\n",
      "[1, 2, 3, 4, 5, 6]\n",
      "[1, 2, 3, 1, 2, 3, 1, 2, 3]\n",
      "100\n",
      "3\n",
      "156\n",
      "1\n",
      "3\n",
      "True\n",
      "False\n"
     ]
    }
   ],
   "metadata": {}
  },
  {
   "cell_type": "code",
   "execution_count": 66,
   "source": [
    "# List Slicing L[start:stop]\r\n",
    "A = ['a', 'b', 'c', 'd', 'e', 'f', 'g', 'h', 'i']\r\n",
    "print(A[2:8])\r\n",
    "\r\n",
    "# Slice with Negative indices\r\n",
    "A = ['a', 'b', 'c', 'd', 'e', 'f', 'g', 'h', 'i']\r\n",
    "print(A[-7:-2])\r\n",
    "\r\n",
    "# Slice with Positive & Negative Indices\r\n",
    "A = ['a', 'b', 'c', 'd', 'e', 'f', 'g', 'h', 'i']\r\n",
    "print(A[2:-5])\r\n",
    "\r\n",
    "#Step of the Slicing\r\n",
    "# Return every 2nd item between position 2 to 7\r\n",
    "A = ['a', 'b', 'c', 'd', 'e', 'f', 'g', 'h', 'i']\r\n",
    "print(A[2:7:2])\r\n",
    "print(A[2:7:2])\r\n",
    "\r\n",
    "# Negative step size\r\n",
    "# Return every 2nd item between position 6 to 1\r\n",
    "A = ['a', 'b', 'c', 'd', 'e', 'f', 'g', 'h', 'i']\r\n",
    "print(A[6:1:-2])\r\n",
    "\r\n",
    "# Slice at Beginning & End\r\n",
    "# Slice the first three items from the list\r\n",
    "A = ['a', 'b', 'c', 'd', 'e', 'f', 'g', 'h', 'i']\r\n",
    "print(A[:3])\r\n",
    "\r\n",
    "# Slice the last three items from the list\r\n",
    "A = ['a', 'b', 'c', 'd', 'e', 'f', 'g', 'h', 'i']\r\n",
    "print(A[6:])\r\n",
    "\r\n",
    "# Reverese a List\r\n",
    "A = ['a', 'b', 'c', 'd', 'e']\r\n",
    "print(A[::-1])\r\n",
    "\r\n",
    "#Modify Multiple List values\r\n",
    "A = ['a', 'b', 'c', 'd', 'e']\r\n",
    "A[1:4] = [1, 2, 3]\r\n",
    "print(A)\r\n",
    "\r\n",
    "# Replace multiple elements in place of a single element\r\n",
    "A = ['a', 'b', 'c', 'd', 'e']\r\n",
    "A[1:2] = [1, 2, 3]\r\n",
    "print(A)\r\n",
    "\r\n",
    "#Delete Multiple List Items\r\n",
    "A = ['a', 'b', 'c', 'd', 'e']\r\n",
    "A[1:5] = []\r\n",
    "print(A)\r\n",
    "\r\n",
    "A = ['a', 'b', 'c', 'd', 'e']\r\n",
    "del A[1:5]\r\n",
    "print(A)\r\n",
    "\r\n",
    "#Clone or Copy a List\r\n",
    "A1 = ['a', 'b', 'c', 'd', 'e']\r\n",
    "A2 = A1[:]\r\n",
    "print(A2)\r\n",
    "print(A2 is A1)"
   ],
   "outputs": [
    {
     "output_type": "stream",
     "name": "stdout",
     "text": [
      "['c', 'd', 'e', 'f', 'g', 'h']\n",
      "['c', 'd', 'e', 'f', 'g']\n",
      "['c', 'd']\n",
      "['c', 'e', 'g']\n",
      "['g', 'e', 'c']\n",
      "['a', 'b', 'c']\n",
      "['g', 'h', 'i']\n",
      "['e', 'd', 'c', 'b', 'a']\n",
      "['a', 1, 2, 3, 'e']\n",
      "['a', 1, 2, 3, 'c', 'd', 'e']\n",
      "['a']\n",
      "['a']\n",
      "['a', 'b', 'c', 'd', 'e']\n",
      "False\n"
     ]
    }
   ],
   "metadata": {}
  },
  {
   "cell_type": "code",
   "execution_count": 75,
   "source": [
    "# String Operations\n",
    "num = \"32\"\n",
    "name = \"sifu\"\n",
    "\n",
    "print(num.isnumeric())\n",
    "print(name.isnumeric())\n",
    "print(name.upper())\n",
    "print(name.lower())\n",
    "\n",
    "country = \"KENYA\"\n",
    "print(country.islower())\n",
    "print(country.isupper())\n",
    "\n",
    "poem = \"sammy lived in a pretty how town\"\n",
    "print(poem.istitle())\n",
    "print(poem.islower())\n",
    "print(\" \".join(poem))\n",
    "print(\"\".join(reversed(poem)))\n",
    "print(\", \".join([\"Ubuntu\", \"Manjaro\", \"Kali\"]))\n",
    "\n",
    "#split\n",
    "poem.split()\n",
    "poem.split(\"a\")\n",
    "\n",
    "#Replace\n",
    "opinion = \"Ubuntu is better than Kali\"\n",
    "opinion.replace(\"Ubuntu\", \"Kali\")"
   ],
   "outputs": [
    {
     "output_type": "stream",
     "name": "stdout",
     "text": [
      "True\n",
      "False\n",
      "SIFU\n",
      "sifu\n",
      "False\n",
      "True\n",
      "False\n",
      "True\n",
      "s a m m y   l i v e d   i n   a   p r e t t y   h o w   t o w n\n",
      "nwot woh ytterp a ni devil ymmas\n",
      "Ubuntu, Manjaro, Kali\n"
     ]
    },
    {
     "output_type": "execute_result",
     "data": {
      "text/plain": [
       "['s', 'mmy lived in ', ' pretty how town']"
      ]
     },
     "metadata": {},
     "execution_count": 75
    }
   ],
   "metadata": {}
  },
  {
   "cell_type": "code",
   "execution_count": 91,
   "source": [
    "#Dictionary\n",
    "# Approach 1\n",
    "D = {\n",
    "     'name': 'Sifu',\n",
    "     'age': 19,\n",
    "     'job': 'Engineer'\n",
    "}\n",
    "print(D)\n",
    "\n",
    "# Approach 2: using dict()\n",
    "# Create a dictionary with a list of two-item tuples\n",
    "D = [\n",
    "     ('name', 'Sifu'),\n",
    "     ('age', 19),\n",
    "     ('job', 'Engineer')\n",
    "]\n",
    "\n",
    "D = dict(D)\n",
    "print(D)\n",
    "print(D.get('name'))\n",
    "print(D.get('salary'))\n",
    "print(D.get('salary', 'Not Found'))\n",
    "\n",
    "#Update\n",
    "D['name'] = 'Dingo'\n",
    "print(D)\n",
    "\n",
    "#Add\n",
    "D['city'] = 'Nairobi'\n",
    "print(D)\n",
    "\n",
    "#Merge 2 dictionaries\n",
    "D1 = {\n",
    "      'name': 'Sifu',\n",
    "      'age': 19,\n",
    "      'job': 'Engineer'\n",
    "}\n",
    "\n",
    "D2 = {\n",
    "      'age': 30,\n",
    "      'city': 'Nairobi',\n",
    "      'email': 'sifu@ke.com'\n",
    "}\n",
    "\n",
    "D1.update(D2)\n",
    "print(D1)\n",
    "\n",
    "#Remove Dictionary Items\n",
    "x = D.pop('age')\n",
    "print(x)\n",
    "print(D)\n",
    "\n",
    "#del\n",
    "del D1['age']\n",
    "print(D1)\n",
    "\n",
    "#Remove Last inserted Item\n",
    "y = D2.popitem()\n",
    "print(y)\n",
    "print(D2)\n",
    "\n",
    "#Remove all items\n",
    "D2.clear()\n",
    "print(D2)\n",
    "\n",
    "#Get all keys, Values and Key:Value Pairs\n",
    "print(list(D.keys()))\n",
    "print(list(D.values()))\n",
    "print(list(D.items()))\n",
    "\n",
    "#Traversal\n",
    "for key in D:\n",
    "    print(key)\n",
    "\n",
    "for key in D:\n",
    "    print(D[key])\n",
    "\n",
    "for key, val in D.items():\n",
    "    print(f'{key}: {val}')"
   ],
   "outputs": [
    {
     "output_type": "stream",
     "name": "stdout",
     "text": [
      "{'name': 'Sifu', 'age': 19, 'job': 'Engineer'}\n",
      "{'name': 'Sifu', 'age': 19, 'job': 'Engineer'}\n",
      "Sifu\n",
      "None\n",
      "Not Found\n",
      "{'name': 'Dingo', 'age': 19, 'job': 'Engineer'}\n",
      "{'name': 'Dingo', 'age': 19, 'job': 'Engineer', 'city': 'Nairobi'}\n",
      "{'name': 'Sifu', 'age': 30, 'job': 'Engineer', 'city': 'Nairobi', 'email': 'sifu@ke.com'}\n",
      "19\n",
      "{'name': 'Dingo', 'job': 'Engineer', 'city': 'Nairobi'}\n",
      "{'name': 'Sifu', 'job': 'Engineer', 'city': 'Nairobi', 'email': 'sifu@ke.com'}\n",
      "('email', 'sifu@ke.com')\n",
      "{'age': 30, 'city': 'Nairobi'}\n",
      "{}\n",
      "['name', 'job', 'city']\n",
      "['Dingo', 'Engineer', 'Nairobi']\n",
      "[('name', 'Dingo'), ('job', 'Engineer'), ('city', 'Nairobi')]\n",
      "name\n",
      "job\n",
      "city\n",
      "Dingo\n",
      "Engineer\n",
      "Nairobi\n",
      "name: Dingo\n",
      "job: Engineer\n",
      "city: Nairobi\n"
     ]
    }
   ],
   "metadata": {}
  },
  {
   "cell_type": "code",
   "execution_count": 93,
   "source": [
    "#Print\n",
    "message = 'Learning dsa using python'\n",
    "print(message)\n",
    "\n",
    "#f-string -> With Variables\n",
    "name, age = \"Erick\", 20\n",
    "message = f\"Hello, {name}. You are {age} years old.\"\n",
    "print(message)\n",
    "\n",
    "#With Separator\n",
    "print('hello', 'world')\n",
    "print('hello', 'world', sep='')\n",
    "print('hello', 'world', sep='\\n')\n",
    "print('home', 'user', 'documents', sep='/')\n",
    "\n",
    "#With End\n",
    "A = [1, 3, 5]\n",
    "for num in A:\n",
    "    print(num, end = ', ')"
   ],
   "outputs": [
    {
     "output_type": "stream",
     "name": "stdout",
     "text": [
      "Learning dsa using python\n",
      "Hello, Erick. You are 20 years old.\n",
      "hello world\n",
      "helloworld\n",
      "hello\n",
      "world\n",
      "home/user/documents\n",
      "1, 3, 5, "
     ]
    }
   ],
   "metadata": {}
  },
  {
   "cell_type": "code",
   "execution_count": 96,
   "source": [
    "#Range\n",
    "print(list(range(10)))\n",
    "\n",
    "#range(start, stop) \n",
    "print(list(range(2, 10)))\n",
    "\n",
    "#range(start, stop, step)\n",
    "print(list(range(2, 14, 2)))\n",
    "\n",
    "#In reverse\n",
    "print(list(range(9, -1, -1))) \n",
    "print(list(range(9, 0, -1))) \n",
    "print(list(range(-2, 6, 2)))"
   ],
   "outputs": [
    {
     "output_type": "stream",
     "name": "stdout",
     "text": [
      "[0, 1, 2, 3, 4, 5, 6, 7, 8, 9]\n",
      "[2, 3, 4, 5, 6, 7, 8, 9]\n",
      "[2, 4, 6, 8, 10, 12]\n",
      "[9, 8, 7, 6, 5, 4, 3, 2, 1, 0]\n",
      "[9, 8, 7, 6, 5, 4, 3, 2, 1]\n",
      "[-2, 0, 2, 4]\n"
     ]
    }
   ],
   "metadata": {}
  },
  {
   "cell_type": "code",
   "execution_count": 100,
   "source": [
    "#Reverse\n",
    "distros = ['Ubuntu', 'Mint', 'PopOs']\n",
    "distros.reverse()\n",
    "\n",
    "print(distros)\n",
    "\n",
    "#Reverse using slcing operator\n",
    "distros = ['Ubuntu', 'Mint', 'PopOs']\n",
    "reversed_distros = distros[::-1]\n",
    "print(reversed_distros)\n",
    "\n",
    "#Reversed\n",
    "reversed_distros = reversed(distros)\n",
    "print(reversed)\n",
    "\n",
    "lst = [1, 2, 3, 4, 5]\n",
    "print(list(reversed(lst)))"
   ],
   "outputs": [
    {
     "output_type": "stream",
     "name": "stdout",
     "text": [
      "['PopOs', 'Mint', 'Ubuntu']\n",
      "['PopOs', 'Mint', 'Ubuntu']\n",
      "<class 'reversed'>\n",
      "[5, 4, 3, 2, 1]\n"
     ]
    }
   ],
   "metadata": {}
  },
  {
   "cell_type": "code",
   "execution_count": 107,
   "source": [
    "#Division\n",
    "print(5/2)\n",
    "\n",
    "#Floor Division\n",
    "print(5//2)\n",
    "\n",
    "#modulo\n",
    "print(5%2)\n",
    "\n",
    "#divmod\n",
    "print(divmod(5, 2))\n",
    "\n",
    "dividend, remainder = divmod(5, 2)\n",
    "print(dividend, remainder)"
   ],
   "outputs": [
    {
     "output_type": "stream",
     "name": "stdout",
     "text": [
      "2.5\n",
      "2\n",
      "1\n",
      "(2, 1)\n",
      "2 1\n"
     ]
    }
   ],
   "metadata": {}
  },
  {
   "cell_type": "code",
   "execution_count": 109,
   "source": [
    "# Get even numbers\n",
    "for number in range(1, 10):\n",
    "    if number % 2 == 0:\n",
    "        print(number, end=' ')"
   ],
   "outputs": [
    {
     "output_type": "stream",
     "name": "stdout",
     "text": [
      "2 4 6 8 "
     ]
    }
   ],
   "metadata": {}
  },
  {
   "cell_type": "code",
   "execution_count": 110,
   "source": [
    "#Get odd numbers\n",
    "for number in range(1, 10):\n",
    "    if number % 2 != 0:\n",
    "        print(number, end=' ')"
   ],
   "outputs": [
    {
     "output_type": "stream",
     "name": "stdout",
     "text": [
      "1 3 5 7 9 "
     ]
    }
   ],
   "metadata": {}
  },
  {
   "cell_type": "code",
   "execution_count": 113,
   "source": [
    "#Check if number is a palindrome\n",
    "def is_palindrome(num):\n",
    "    original_num = num\n",
    "    reversed_num = 0\n",
    "\n",
    "    while (num != 0):\n",
    "        num, rem = divmod(num, 10)\n",
    "        reversed_num = (reversed_num * 10) + rem\n",
    "\n",
    "    return original_num == reversed_num\n",
    "\n",
    "assert is_palindrome(121) == True\n",
    "assert is_palindrome(1212) == False"
   ],
   "outputs": [],
   "metadata": {}
  },
  {
   "cell_type": "code",
   "execution_count": 117,
   "source": [
    "#Functions\n",
    "# Pass two arguments\n",
    "def func(name, job):\n",
    "    print(name, 'is a', job)\n",
    "\n",
    "func('Bob', 'developer')\n",
    "#or\n",
    "func(name='Evans', job='Engineer')\n",
    "\n",
    "#Default Args\n",
    "def func2(name, job='developer'):\n",
    "    print(name, 'is a', job)\n",
    "\n",
    "func2('Bob', 'Manager')\n",
    "func2('John')\n",
    "\n",
    "#Return value\n",
    "def sum(a, b):\n",
    "    return a + b\n",
    "\n",
    "x = sum(3, 4)\n",
    "print(x)\n"
   ],
   "outputs": [
    {
     "output_type": "stream",
     "name": "stdout",
     "text": [
      "Bob is a developer\n",
      "Evans is a Engineer\n",
      "Bob is a Manager\n",
      "John is a developer\n",
      "7\n"
     ]
    }
   ],
   "metadata": {}
  },
  {
   "cell_type": "code",
   "execution_count": 118,
   "source": [
    "#Recursion\n",
    "def countdown(num):\n",
    "    if num <= 0:\n",
    "        print('Stop')\n",
    "    else:\n",
    "        print(num)\n",
    "        countdown(num-1)\n",
    "\n",
    "countdown(5)"
   ],
   "outputs": [
    {
     "output_type": "stream",
     "name": "stdout",
     "text": [
      "5\n",
      "4\n",
      "3\n",
      "2\n",
      "1\n",
      "Stop\n"
     ]
    }
   ],
   "metadata": {}
  },
  {
   "cell_type": "code",
   "execution_count": 124,
   "source": [
    "#Hashmap Frequency\n",
    "A = [1, 5, 2, 1, 3, 2, 1]\n",
    "\n",
    "freq = {}\n",
    "#Method 1\n",
    "for num in A:\n",
    "    if num in freq:\n",
    "        freq[num] = freq[num] + 1\n",
    "    else:\n",
    "        freq[num] = 1\n",
    "        \n",
    "#Method2\n",
    "for num in A:\n",
    "    freq[num] = freq.get(num, 0) + 1\n",
    "    print(freq)"
   ],
   "outputs": [
    {
     "output_type": "stream",
     "name": "stdout",
     "text": [
      "{1: 4, 5: 1, 2: 2, 3: 1}\n",
      "{1: 4, 5: 2, 2: 2, 3: 1}\n",
      "{1: 4, 5: 2, 2: 3, 3: 1}\n",
      "{1: 5, 5: 2, 2: 3, 3: 1}\n",
      "{1: 5, 5: 2, 2: 3, 3: 2}\n",
      "{1: 5, 5: 2, 2: 4, 3: 2}\n",
      "{1: 6, 5: 2, 2: 4, 3: 2}\n"
     ]
    }
   ],
   "metadata": {}
  },
  {
   "cell_type": "code",
   "execution_count": null,
   "source": [
    "#Infinity\n",
    "#Positive Infinity\n",
    "positive_infinity = float('inf')\n",
    "\n",
    "#Alternative\n",
    "import math\n",
    "math.inf\n",
    "\n",
    "#Negative infinity\n",
    "negative_infinity = float('-inf')\n",
    "\n",
    "#Alternative\n",
    "import math\n",
    "-math.inf"
   ],
   "outputs": [],
   "metadata": {}
  },
  {
   "cell_type": "code",
   "execution_count": null,
   "source": [
    "#Get smallest element in Array\n",
    "def get_smallest(A):\n",
    "    #Initialize max with largest num ever(Negative Infinity)\n",
    "    smallest = float('inf') \n",
    "        \n",
    "    for num in A:\n",
    "        if num < smallest:\n",
    "            smallest = num\n",
    "    \n",
    "    return smallest  "
   ],
   "outputs": [],
   "metadata": {}
  },
  {
   "cell_type": "code",
   "execution_count": null,
   "source": [
    "#Get largest element in array\n",
    "def get_largest(A):\n",
    "    # Initialize max smallest num ever(Positive Infinity)\n",
    "    largest = float('-inf') \n",
    "        \n",
    "    for num in A:\n",
    "        if num > largest:\n",
    "            largest = num\n",
    "    \n",
    "    return largest"
   ],
   "outputs": [],
   "metadata": {}
  },
  {
   "cell_type": "code",
   "execution_count": 125,
   "source": [
    "#2D array\n",
    "# Approach 1\n",
    "n_rows, n_cols = 5, 8\n",
    "matrix = [[0 for _ in range(n_rows)] for _ in range(n_cols)]\n",
    "\n",
    "#approach 2\n",
    "n_rows, n_cols = 5, 8\n",
    "matrix = [[0] * n_rows for _ in range(n_cols)]"
   ],
   "outputs": [],
   "metadata": {}
  },
  {
   "cell_type": "code",
   "execution_count": 126,
   "source": [
    "#Iteration\n",
    "A = [\n",
    "    [1, 2, 3, 4],\n",
    "    [5, 6, 7, 8],\n",
    "    [9, 10, 11, 12]\n",
    "]\n",
    "\n",
    "n, m = len(A), len(A[0])\n",
    "\n",
    "for row in range(n):\n",
    "    for col in range(m):\n",
    "        print(A[row][col], end=' ')"
   ],
   "outputs": [
    {
     "output_type": "stream",
     "name": "stdout",
     "text": [
      "1 2 3 4 5 6 7 8 9 10 11 12 "
     ]
    }
   ],
   "metadata": {}
  },
  {
   "cell_type": "code",
   "execution_count": 130,
   "source": [
    "#Map\n",
    "A = [2, 5, 6]\n",
    "\n",
    "new_a = map(str, A)\n",
    "new_a = list(new_a) # ['2', '5', '6']\n",
    "\n",
    "#Normal operation\n",
    "new_a = []\n",
    "for num in A:\n",
    "    new_a.append(str(num))\n",
    "    print(new_a)\n",
    "\n",
    "#square each element\n",
    "numbers = (1, 2, 3, 4)\n",
    "result = map(lambda x: x*x, numbers)\n",
    "print(list(result))\n",
    "\n",
    "#Length of every word\n",
    "words = [\"I\", \"like\", \"honest\", \"people\"]\n",
    "\n",
    "result = map(len, words)\n",
    "list(result)\n",
    "\n",
    "result = []\n",
    "for word in words:\n",
    "    result.append(len(word))\n",
    "    print(result)\n",
    "\n",
    "#Str methods\n",
    "string_it = [\"best\", \"with\", \"map\"]\n",
    "list(map(str.capitalize, string_it))\n",
    "\n",
    "list(map(str.upper, string_it))\n",
    "\n",
    "list(map(str.lower, string_it))\n",
    "\n",
    "with_spaces = [\"processing \", \"  strings\", \" map   \"]\n",
    "list(map(str.strip, with_spaces))\n",
    "\n",
    "with_dots = [\"...strings\", \"with....\", \"..map..\"]\n",
    "list(map(lambda s: s.strip(\".\"), with_dots))\n"
   ],
   "outputs": [
    {
     "output_type": "stream",
     "name": "stdout",
     "text": [
      "['2']\n",
      "['2', '5']\n",
      "['2', '5', '6']\n",
      "[1, 4, 9, 16]\n",
      "[1]\n",
      "[1, 4]\n",
      "[1, 4, 6]\n",
      "[1, 4, 6, 6]\n"
     ]
    }
   ],
   "metadata": {}
  },
  {
   "cell_type": "code",
   "execution_count": 131,
   "source": [
    "#Swapping\n",
    "#In-Place swapping of two numbers\n",
    "x, y = 5, 7\n",
    "\n",
    "# Swapping \n",
    "x, y = y, x \n",
    "\n",
    "#In-Place swapping in Array\n",
    "A[i], A[j] = A[j], A[i]\n",
    "\n",
    "# Example\n",
    "def swap(A, i, j):\n",
    "    A[i], A[j] = A[j], A[i]"
   ],
   "outputs": [
    {
     "output_type": "error",
     "ename": "NameError",
     "evalue": "name 'j' is not defined",
     "traceback": [
      "\u001b[1;31m---------------------------------------------------------------------------\u001b[0m",
      "\u001b[1;31mNameError\u001b[0m                                 Traceback (most recent call last)",
      "\u001b[1;32m<ipython-input-131-95f0862e6569>\u001b[0m in \u001b[0;36m<module>\u001b[1;34m\u001b[0m\n\u001b[0;32m      7\u001b[0m \u001b[1;33m\u001b[0m\u001b[0m\n\u001b[0;32m      8\u001b[0m \u001b[1;31m#In-Place swapping in Array\u001b[0m\u001b[1;33m\u001b[0m\u001b[1;33m\u001b[0m\u001b[1;33m\u001b[0m\u001b[0m\n\u001b[1;32m----> 9\u001b[1;33m \u001b[0mA\u001b[0m\u001b[1;33m[\u001b[0m\u001b[0mi\u001b[0m\u001b[1;33m]\u001b[0m\u001b[1;33m,\u001b[0m \u001b[0mA\u001b[0m\u001b[1;33m[\u001b[0m\u001b[0mj\u001b[0m\u001b[1;33m]\u001b[0m \u001b[1;33m=\u001b[0m \u001b[0mA\u001b[0m\u001b[1;33m[\u001b[0m\u001b[0mj\u001b[0m\u001b[1;33m]\u001b[0m\u001b[1;33m,\u001b[0m \u001b[0mA\u001b[0m\u001b[1;33m[\u001b[0m\u001b[0mi\u001b[0m\u001b[1;33m]\u001b[0m\u001b[1;33m\u001b[0m\u001b[1;33m\u001b[0m\u001b[0m\n\u001b[0m\u001b[0;32m     10\u001b[0m \u001b[1;33m\u001b[0m\u001b[0m\n\u001b[0;32m     11\u001b[0m \u001b[1;31m# Example\u001b[0m\u001b[1;33m\u001b[0m\u001b[1;33m\u001b[0m\u001b[1;33m\u001b[0m\u001b[0m\n",
      "\u001b[1;31mNameError\u001b[0m: name 'j' is not defined"
     ]
    }
   ],
   "metadata": {}
  },
  {
   "cell_type": "code",
   "execution_count": 135,
   "source": [
    "#ord\n",
    "x = ord('Z')\n",
    "print(x) # 65\n",
    "\n",
    "y = chr(65)\n",
    "print(y) # A"
   ],
   "outputs": [
    {
     "output_type": "stream",
     "name": "stdout",
     "text": [
      "90\n",
      "A\n"
     ]
    }
   ],
   "metadata": {}
  },
  {
   "cell_type": "code",
   "execution_count": 139,
   "source": [
    "#ZIp\n",
    "#Creates an iterator that will aggregate elements from two or more iterables\n",
    "\n",
    "#Creation\n",
    "numbers = [1, 2, 3]\n",
    "letters = ['a', 'b', 'c']\n",
    "\n",
    "combined = zip(numbers, letters)\n",
    "print(list(combined))\n",
    "\n",
    "#Traversing\n",
    "letters = ['a', 'b', 'c']\n",
    "numbers = [0, 1, 2]\n",
    "\n",
    "for letter, num in zip(letters, numbers):\n",
    "    print(f'{letter} : {num}')\n",
    "\n",
    "#Building a dictionary\n",
    "fields = ['name', 'age', 'job']\n",
    "values = ['Sifu', '45', 'Engineer']\n",
    "\n",
    "a_dict = dict(zip(fields, values))\n",
    "print(a_dict)"
   ],
   "outputs": [
    {
     "output_type": "stream",
     "name": "stdout",
     "text": [
      "[(1, 'a'), (2, 'b'), (3, 'c')]\n",
      "a : 0\n",
      "b : 1\n",
      "c : 2\n",
      "{'name': 'Sifu', 'age': '45', 'job': 'Engineer'}\n"
     ]
    }
   ],
   "metadata": {}
  },
  {
   "cell_type": "code",
   "execution_count": 150,
   "source": [
    "#Create Target array in the given order\n",
    "\n",
    "\n",
    "def createTargetArray(nums, index):\n",
    "    \n",
    "    results = []\n",
    "\n",
    "    for num, idx in zip(nums, index):\n",
    "        results.insert(idx, num)  \n",
    "\n",
    "    return results\n",
    "\n",
    "nums = [0,1,2,3,4]\n",
    "index = [0,1,2,2,1]\n",
    "\n",
    "print(createTargetArray(nums, index))"
   ],
   "outputs": [
    {
     "output_type": "stream",
     "name": "stdout",
     "text": [
      "[0, 4, 1, 3, 2]\n"
     ]
    }
   ],
   "metadata": {}
  },
  {
   "cell_type": "code",
   "execution_count": 153,
   "source": [
    "#String\n",
    "import string\n",
    "\n",
    "print(string.ascii_letters)\n",
    "print(string.ascii_lowercase)\n",
    "print(string.ascii_uppercase)\n",
    "print(string.digits)\n",
    "print(string.hexdigits)\n",
    "print(string.whitespace)\n",
    "print(string.punctuation)\n",
    "\n",
    "#capwords()\n",
    "#This function split the specified string into words using str.split(). \n",
    "#Then it capitalizes each word using str.capitalize() function. \n",
    "#Finally, it joins the capitalized words using str.join().\n",
    "s = '  Welcome TO  \\n\\n JournalDev '\n",
    "print(string.capwords(s))"
   ],
   "outputs": [
    {
     "output_type": "stream",
     "name": "stdout",
     "text": [
      "abcdefghijklmnopqrstuvwxyzABCDEFGHIJKLMNOPQRSTUVWXYZ\n",
      "abcdefghijklmnopqrstuvwxyz\n",
      "ABCDEFGHIJKLMNOPQRSTUVWXYZ\n",
      "0123456789\n",
      "0123456789abcdefABCDEF\n",
      " \t\n",
      "\u000b\f\n",
      "!\"#$%&'()*+,-./:;<=>?@[\\]^_`{|}~\n",
      "Welcome To Journaldev\n"
     ]
    }
   ],
   "metadata": {}
  },
  {
   "cell_type": "code",
   "execution_count": 155,
   "source": [
    "#Random\n",
    "import random\n",
    "print()\n",
    "print(random.random())\n",
    "print(random.randint(1, 100))\n",
    "print(random.randrange(1, 10))\n",
    "print(random.randrange(1, 10, 2))\n",
    "print(random.choice('computer'))\n",
    "print(random.choice([12, 23, 45, 67, 65, 43]))\n",
    "\n",
    "myList = [\"bmw\", \"volvo\", \"toyota\", \"chrysler\"]\n",
    "print(random.sample(myList, 2))\n",
    "\n",
    "numbers=[12, 23, 45, 67, 65, 43]\n",
    "random.shuffle(numbers)\n",
    "print(numbers)"
   ],
   "outputs": [
    {
     "output_type": "stream",
     "name": "stdout",
     "text": [
      "\n",
      "0.9459647212724165\n",
      "20\n",
      "1\n",
      "9\n",
      "o\n",
      "43\n",
      "['toyota', 'chrysler']\n",
      "[43, 45, 65, 12, 23, 67]\n"
     ]
    }
   ],
   "metadata": {}
  },
  {
   "cell_type": "code",
   "execution_count": 164,
   "source": [
    "#Collections\n",
    "#Counter\n",
    "\n",
    "from collections import Counter\n",
    "\n",
    "lst = [1, 2, 3, 4, 1, 2, 1]\n",
    "cnt = Counter(lst)\n",
    "print(cnt)\n",
    "print(cnt.most_common())\n",
    "\n",
    "#Defaultdict\n",
    "from collections import defaultdict\n",
    "\n",
    "nums = defaultdict(int)\n",
    "nums['one'] = 1\n",
    "nums['two'] = 2\n",
    "print(nums['three'])\n",
    "\n",
    "#Usage\n",
    "from collections import defaultdict\n",
    "\n",
    "count = defaultdict(int)\n",
    "names_list = ['Mike', 'John', 'Mike', 'Anna', 'Mike', 'John', 'Smith']\n",
    "\n",
    "for names in names_list:\n",
    "    count[names] +=1\n",
    "    print(count)\n",
    "\n",
    "#OrderedDict\n",
    "from collections import OrderedDict\n",
    "\n",
    "od = OrderedDict()\n",
    "od['a'] = 1\n",
    "od['b'] = 2\n",
    "od['c'] = 3\n",
    "print(dict(od))\n",
    "\n",
    "#Deque\n",
    "#a list optimized for inserting and removing items.\n",
    "from collections import deque\n",
    "\n",
    "list = [\"a\", \"b\", \"c\"]\n",
    "deq = deque(list)\n",
    "print(deq)\n",
    "#Inserting Elements\n",
    "deq.append(\"d\")\n",
    "deq.appendleft(\"e\")\n",
    "print(deq)\n",
    "\n",
    "deq.pop()\n",
    "deq.popleft()\n",
    "print(deq)\n",
    "\n",
    "deq.clear()\n",
    "print(deq)\n",
    "\n",
    "print(deq.count(\"a\"))\n",
    "\n",
    "#namedtuple\n",
    "from collections import namedtuple\n",
    "\n",
    "Student = namedtuple('Student', 'fname, lname, age')\n",
    "s1 = Student('Sifu', 'Clarke', '13')\n",
    "print(s1.fname)\n",
    "\n",
    "# Creating a namedtuple Using List\n",
    "s2 = Student._make(['Dingo', 'Kaulu', '18'])\n",
    "print(s2)\n",
    "\n",
    "# Create a New Instance Using Existing Instance\n",
    "s2 = s1._asdict()\n",
    "print(s2)"
   ],
   "outputs": [
    {
     "output_type": "stream",
     "name": "stdout",
     "text": [
      "Counter({1: 3, 2: 2, 3: 1, 4: 1})\n",
      "[(1, 3), (2, 2), (3, 1), (4, 1)]\n",
      "0\n",
      "defaultdict(<class 'int'>, {'Mike': 1})\n",
      "defaultdict(<class 'int'>, {'Mike': 1, 'John': 1})\n",
      "defaultdict(<class 'int'>, {'Mike': 2, 'John': 1})\n",
      "defaultdict(<class 'int'>, {'Mike': 2, 'John': 1, 'Anna': 1})\n",
      "defaultdict(<class 'int'>, {'Mike': 3, 'John': 1, 'Anna': 1})\n",
      "defaultdict(<class 'int'>, {'Mike': 3, 'John': 2, 'Anna': 1})\n",
      "defaultdict(<class 'int'>, {'Mike': 3, 'John': 2, 'Anna': 1, 'Smith': 1})\n",
      "{'a': 1, 'b': 2, 'c': 3}\n",
      "deque(['a', 'b', 'c'])\n",
      "deque(['e', 'a', 'b', 'c', 'd'])\n",
      "deque(['a', 'b', 'c'])\n",
      "deque([])\n",
      "0\n",
      "Sifu\n",
      "Student(fname='Dingo', lname='Kaulu', age='18')\n",
      "{'fname': 'Sifu', 'lname': 'Clarke', 'age': '13'}\n"
     ]
    }
   ],
   "metadata": {}
  },
  {
   "cell_type": "code",
   "execution_count": 165,
   "source": [
    "#Contains Duplicate\n",
    "def containsDuplicate(nums):\n",
    "    freq = {}\n",
    "\n",
    "    for num in nums:\n",
    "        count = freq.get(num, 0) + 1\n",
    "\n",
    "        if count > 1:\n",
    "            return True\n",
    "            \n",
    "        freq[num] = count\n",
    "\n",
    "    return False\n",
    "\n",
    "assert containsDuplicate([1, 2, 3, 1]) == True\n",
    "assert containsDuplicate([1, 2, 3, 4]) == False\n",
    "assert containsDuplicate([1, 1, 1, 3, 3, 4, 3, 2, 4, 2]) == True"
   ],
   "outputs": [],
   "metadata": {}
  },
  {
   "cell_type": "code",
   "execution_count": null,
   "source": [
    "#Repeating Character\n",
    "def firstRepeatingCharacter(s):\n",
    "    seen = set()\n",
    "    \n",
    "    for char in s:\n",
    "        if char in seen:\n",
    "            return char\n",
    "        \n",
    "        seen.add(char)\n",
    "        \n",
    "    return '\\0'\n",
    "    "
   ],
   "outputs": [],
   "metadata": {}
  },
  {
   "cell_type": "code",
   "execution_count": null,
   "source": [
    "#Ransom Note\n",
    "def canConstruct(ransomNote: str, magazine: str) -> bool:\n",
    "    if len(ransomNote) > len(magazine):\n",
    "        return False\n",
    "\n",
    "    freqs = {}\n",
    "    for ch in magazine:\n",
    "        freqs[ch] = freqs.get(ch, 0) + 1\n",
    "\n",
    "    for c in ransomNote:\n",
    "        if c not in freqs or freqs[c] == 0:\n",
    "            return False\n",
    "\n",
    "        freqs[c] -= 1\n",
    "\n",
    "    return True\n",
    "    \n",
    "    \n",
    "assert canConstruct('a', 'b') == False\n",
    "assert canConstruct('aa', 'ab') == False\n",
    "assert canConstruct('aa', 'aab') == True"
   ],
   "outputs": [],
   "metadata": {}
  },
  {
   "cell_type": "code",
   "execution_count": null,
   "source": [
    "#Jewels and stones\n",
    "def numJewelsInStones(J: str, S: str) -> int:\n",
    "    jewels = set(J)\n",
    "    \n",
    "    count = 0\n",
    "    for stone in S:\n",
    "        if stone in jewels:\n",
    "            count += 1\n",
    "    \n",
    "    return count\n",
    "    \n",
    "\n",
    "assert numJewelsInStones('aA', 'aAAbbbb') == 3\n",
    "assert numJewelsInStones('z', 'ZZ') == 0"
   ],
   "outputs": [],
   "metadata": {}
  },
  {
   "cell_type": "code",
   "execution_count": null,
   "source": [],
   "outputs": [],
   "metadata": {}
  },
  {
   "cell_type": "code",
   "execution_count": null,
   "source": [
    "#First unique character\n",
    "def firstUniqChar(s: str):\n",
    "    _hash = {}\n",
    "\n",
    "    for char in s:\n",
    "        _hash[char] = _hash.get(char, 0) + 1\n",
    "\n",
    "    for i in range(len(s)):\n",
    "        if _hash[s[i]] == 1:\n",
    "            return i\n",
    "\n",
    "    return -1\n",
    "\n",
    "\n",
    "assert firstUniqChar(\"leetcode\") == 0\n",
    "assert firstUniqChar(\"loveleetcode\") == 2"
   ],
   "outputs": [],
   "metadata": {}
  },
  {
   "cell_type": "code",
   "execution_count": null,
   "source": [
    "#Max Freq Number\n",
    "def mostFrequent(arr):\n",
    "    freq = {}\n",
    "\n",
    "    for num in arr:\n",
    "        freq[num] = freq.get(num, 0) + 1\n",
    "\n",
    "    max_count, res = 0, -1\n",
    "    for k, v in freq.items():\n",
    "        if v > max_count:\n",
    "            max_count = v\n",
    "            res = k\n",
    "\n",
    "    return res\n",
    "\n",
    "assert mostFrequent(1, 5, 2, 1, 3, 2, 1]) == 1\n",
    "\n",
    "#Approach2\n",
    "def mostFrequent2(arr):\n",
    "    freq = {}\n",
    "    max_count, most_frequent = 0, -1\n",
    "\n",
    "    for num in arr:\n",
    "        freq[num] = freq.get(num, 0) + 1\n",
    "\n",
    "        curr = freq[num]\n",
    "        if curr > max_count:\n",
    "            max_count = curr\n",
    "            most_frequent = num\n",
    "\n",
    "    return num\n",
    "\n",
    "assert mostFrequent2(1, 5, 2, 1, 3, 2, 1]) == 1"
   ],
   "outputs": [],
   "metadata": {}
  }
 ]
}