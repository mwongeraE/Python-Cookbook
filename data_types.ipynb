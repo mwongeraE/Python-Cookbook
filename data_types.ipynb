{
 "metadata": {
  "language_info": {
   "codemirror_mode": {
    "name": "ipython",
    "version": 3
   },
   "file_extension": ".py",
   "mimetype": "text/x-python",
   "name": "python",
   "nbconvert_exporter": "python",
   "pygments_lexer": "ipython3",
   "version": "3.9.5"
  },
  "orig_nbformat": 2,
  "kernelspec": {
   "name": "python395jvsc74a57bd08f27c3272b7ea170fa54a6cc27432780cd99d82353513886b6195111980c1039",
   "display_name": "Python 3.9.5 64-bit ('PythonSoftwareFoundation.Python.3.9_qbz5n2kfra8p0')"
  },
  "metadata": {
   "interpreter": {
    "hash": "8f27c3272b7ea170fa54a6cc27432780cd99d82353513886b6195111980c1039"
   }
  }
 },
 "nbformat": 4,
 "nbformat_minor": 2,
 "cells": [
  {
   "cell_type": "code",
   "execution_count": 24,
   "metadata": {},
   "outputs": [
    {
     "output_type": "stream",
     "name": "stdout",
     "text": [
      "num -45\nnum2 55\nnum3 27.5\nA string in single quotes.\nA string in double quotes.\n"
     ]
    }
   ],
   "source": [
    "num = -45\n",
    "print(\"num\", num)\n",
    "\n",
    "num2 = 100 - 45\n",
    "print(\"num2\", num2)\n",
    "\n",
    "#floating-point numbers\n",
    "num3 = 27.5\n",
    "print(\"num3\", num3)\n",
    "\n",
    "#boolean\n",
    "is_it_true = 5 > 8\n",
    "is_it_true\n",
    "\n",
    "#strings\n",
    "string_a = 'A string in single quotes.'\n",
    "string_b = \"A string in double quotes.\"\n",
    "print(string_a)\n",
    "print(string_b)\n",
    "\n"
   ]
  },
  {
   "cell_type": "code",
   "execution_count": 23,
   "metadata": {},
   "outputs": [
    {
     "output_type": "stream",
     "name": "stdout",
     "text": [
      "[-3, -2, -1, 0, 1, 2, 3]\n['Ubuntu', 'Manjaro', 'Mint']\n[2, 3, 'papa', 'squid']\n"
     ]
    }
   ],
   "source": [
    "#Lists\n",
    "nums_list = [-3, -2, -1, 0, 1, 2, 3]\n",
    "distros = ['Ubuntu', 'Manjaro', 'Mint']\n",
    "\n",
    "combined = [2, 3, 'papa', 'squid']\n",
    "\n",
    "print(nums_list)\n",
    "print(distros)\n",
    "print(combined)\n"
   ]
  },
  {
   "cell_type": "code",
   "execution_count": 22,
   "metadata": {},
   "outputs": [
    {
     "output_type": "stream",
     "name": "stdout",
     "text": [
      "('Ubuntu', 'Manjaro', 'Mint')\n"
     ]
    }
   ],
   "source": [
    "#tuples\n",
    "distros_tuple = ('Ubuntu', 'Manjaro', 'Mint')\n",
    "print(distros_tuple)"
   ]
  },
  {
   "cell_type": "code",
   "execution_count": 26,
   "metadata": {},
   "outputs": [
    {
     "output_type": "stream",
     "name": "stdout",
     "text": [
      "{2, 4, 6, 8, 10}\n{1, 3, 5, 7, 9}\n{1, 10.5, 'Mapete'}\n{1, 2, 3, 4, 5}\n"
     ]
    }
   ],
   "source": [
    "#sets\n",
    "new_set = set() #declare empty set\n",
    "\n",
    "even_nums = {2, 4, 6, 8, 10} \n",
    "odd_nums = set([1, 3, 5, 7, 9])\n",
    "data = {1, 'Mapete', 10.5, True} # distinct values\n",
    "\n",
    "print(even_nums)\n",
    "print(odd_nums)\n",
    "print(data)\n",
    "\n",
    "nums = {1, 2, 2, 3, 4, 4, 5, 5}\n",
    "print(nums)\n"
   ]
  },
  {
   "cell_type": "code",
   "execution_count": 27,
   "metadata": {},
   "outputs": [
    {
     "output_type": "stream",
     "name": "stdout",
     "text": [
      "19\nMaster King\n"
     ]
    }
   ],
   "source": [
    "#Dictionaries\n",
    "\n",
    "# Declare using {}\n",
    "person = {\n",
    "    'name': 'Sifu', \n",
    "    'age': 19, \n",
    "    'gender': 'Male'\n",
    "}\n",
    "\n",
    "# Declare using dict()\n",
    "person2 = dict({\n",
    "    'name': 'Master King', \n",
    "    'age': 91, \n",
    "    'gender': 'Male'\n",
    "})\n",
    "\n",
    "print(person['age'])\n",
    "print(person2['name'])"
   ]
  },
  {
   "cell_type": "code",
   "execution_count": 32,
   "metadata": {},
   "outputs": [
    {
     "output_type": "stream",
     "name": "stdout",
     "text": [
      "True\nTrue\nTrue\nTrue\n"
     ]
    }
   ],
   "source": [
    "#Check Data types\n",
    "\n",
    "num = 80\n",
    "print(isinstance(num, int))\n",
    "\n",
    "PI = 3.14\n",
    "print(isinstance(PI, float))\n",
    "\n",
    "domain = \"sifula.com\"\n",
    "print(isinstance(domain, str))\n",
    "\n",
    "names = [\"Mzinga\", \"Chrome Gin\", \"Martin\"]\n",
    "print(isinstance(names, list))"
   ]
  },
  {
   "cell_type": "code",
   "execution_count": 33,
   "metadata": {},
   "outputs": [
    {
     "output_type": "stream",
     "name": "stdout",
     "text": [
      "<class 'list'>\n<class 'dict'>\n"
     ]
    }
   ],
   "source": [
    "#type\n",
    "nums = [1,2]\n",
    "print(type(nums))\n",
    "\n",
    "numbers_dict = {1: 'one', 2: 'two'}\n",
    "print(type(numbers_dict))"
   ]
  },
  {
   "cell_type": "code",
   "execution_count": 36,
   "metadata": {},
   "outputs": [
    {
     "output_type": "stream",
     "name": "stdout",
     "text": [
      "100\n<class 'int'>\n132\n<class 'int'>\n"
     ]
    }
   ],
   "source": [
    "#Type casting\n",
    "#The process in which we convert a literal of one type to another\n",
    "\n",
    "#int conversion\n",
    "num = 100.05\n",
    "n = int(num)\n",
    "print(n)\n",
    "print(type(n))\n",
    "\n",
    "s = '132'\n",
    "n = int(s)\n",
    "print(n)\n",
    "print(type(n))\n"
   ]
  },
  {
   "cell_type": "code",
   "execution_count": 44,
   "metadata": {},
   "outputs": [
    {
     "output_type": "stream",
     "name": "stdout",
     "text": [
      "lenny\nKala\nDingo\n1\nJohn\nCollins\nDingo\n2\nmary\nHarris\nGod\n3\n0: Eric\n1: Kala\n2: Dingo\n3: 4\n"
     ]
    }
   ],
   "source": [
    "#List iteration\n",
    "\n",
    "#Using For loop\n",
    "A = ['lenny', \"Kala\", 'Dingo', 1] \n",
    " \n",
    "for elem in A: \n",
    "    print(elem) \n",
    "\n",
    "#Using List Comprehesion\n",
    "A = ['John', \"Collins\", 'Dingo', 2] \n",
    "[print(x) for x in A]\n",
    "\n",
    "#Using for loop and range() function\n",
    "A = ['mary', \"Harris\", 'God', 3]  \n",
    "n = len(A) \n",
    "    \n",
    "for i in range(n): \n",
    "    print(A[i])\n",
    "\n",
    "#Using enumerate() function\n",
    "A = ['Eric', \"Kala\", 'Dingo', 4]\n",
    "\n",
    "for idx, elem in enumerate(A): \n",
    "    print(f'{idx}: {elem}')"
   ]
  },
  {
   "cell_type": "code",
   "execution_count": 64,
   "metadata": {},
   "outputs": [
    {
     "output_type": "stream",
     "name": "stdout",
     "text": [
      "['cake', 'butter', 'milk']\n['cake', 'butter', 'water']\nblack\nwhite\n[1, 2, 'x']\n[1, 2, 3, 4]\n['x', 1, 2]\n[1, 3]\n[3, 4, 5]\n['red', 'green']\n['red', 'blue']\n['x', 3, 2, 1]\n[1, 2, 3, 4]\n[4, 3, 2, 1]\n['Dan', 'Best', 'Kopat', 'Dixans', 'muhammad']\n[1, 2, 3, 4, 5, 6]\n[1, 2, 3, 1, 2, 3, 1, 2, 3]\n100\n3\n156\n1\n3\nTrue\nFalse\n"
     ]
    }
   ],
   "source": [
    "# List Operations\n",
    "basket = ['bread', 'butter', 'milk']\n",
    "basket[0] = 'cake'\n",
    "print(basket)\n",
    "\n",
    "basket[-1] = 'water'\n",
    "print(basket)\n",
    "\n",
    "#Negative Indices\n",
    "colors = ['red', 'green', 'blue', 'yellow', 'white', 'black']\n",
    "print(colors[-1])\n",
    "print(colors[-2])\n",
    "\n",
    "#Append\n",
    "A = [1, 2]\n",
    "A.append('x')\n",
    "print(A)\n",
    "\n",
    "#Extend\n",
    "A = [1, 2]\n",
    "A.extend([3, 4])\n",
    "print(A)\n",
    "\n",
    "#Insert\n",
    "A = [1, 2]\n",
    "A.insert(0, 'x') # Insert x at position 0\n",
    "print(A)\n",
    "\n",
    "#Del\n",
    "A = [1, 2, 3]\n",
    "del A[1]\n",
    "print(A)\n",
    "\n",
    "A = [1, 2, 3, 4, 5]\n",
    "del A[:2] # Remove all upto index 2-1\n",
    "print(A)\n",
    "\n",
    "#pop\n",
    "L = ['red', 'green', 'blue']\n",
    "L.pop()\n",
    "print(L) # ['red', 'green']\n",
    "\n",
    "# Remove 2nd list item\n",
    "L = ['red', 'green', 'blue']\n",
    "L.pop(1) # ['red', 'blue']\n",
    "\n",
    "# Remove 2nd last item\n",
    "L = ['red', 'green', 'blue']\n",
    "L.pop(-2)\n",
    "print(L) # ['red', 'blue']\n",
    "\n",
    "#Reverse\n",
    "A = [1, 2, 3, 'x']\n",
    "A.reverse()\n",
    "print(A)\n",
    "\n",
    "#Sort\n",
    "A = [3, 2, 1, 4]\n",
    "A.sort() # Sort in ascending order\n",
    "print(A)\n",
    "\n",
    "A = [3, 2, 1, 4]\n",
    "A.sort(reverse=True) # Sort in descending order\n",
    "print(A)\n",
    "\n",
    "names = [\"Dan\", \"Dixans\", \"Best\", \"Kopat\", \"muhammad\"] \n",
    "names.sort(key=len) \n",
    "print(names)\n",
    "\n",
    "# + operation\n",
    "A1 = [1, 2, 3]\n",
    "A2 = [4, 5, 6]\n",
    "print(A1 + A2)\n",
    "\n",
    "# * operation\n",
    "A = [1, 2, 3]\n",
    "print(A*3)\n",
    "\n",
    "#Max, Min, Sum\n",
    "A = [40, 100, 3, 9, 4]\n",
    "print(max(A))\n",
    "print(min(A))\n",
    "print(sum(A))\n",
    "\n",
    "#Index\n",
    "A = [10, 30, 20]\n",
    "print(A.index(30)) # 1\n",
    "\n",
    "#Count\n",
    "A = [10, 30, 20, 30, 30]\n",
    "print(A.count(30))\n",
    "\n",
    "#in\n",
    "A = ['h', 2, 'x', 6, 9]\n",
    "print('x' in A)\n",
    "print('b' in A)"
   ]
  },
  {
   "cell_type": "code",
   "execution_count": 66,
   "metadata": {},
   "outputs": [
    {
     "output_type": "stream",
     "name": "stdout",
     "text": [
      "['c', 'd', 'e', 'f', 'g', 'h']\n['c', 'd', 'e', 'f', 'g']\n['c', 'd']\n['c', 'e', 'g']\n['g', 'e', 'c']\n['a', 'b', 'c']\n['g', 'h', 'i']\n['e', 'd', 'c', 'b', 'a']\n['a', 1, 2, 3, 'e']\n['a', 1, 2, 3, 'c', 'd', 'e']\n['a']\n['a']\n['a', 'b', 'c', 'd', 'e']\nFalse\n"
     ]
    }
   ],
   "source": [
    "# List Slicing L[start:stop]\n",
    "A = ['a', 'b', 'c', 'd', 'e', 'f', 'g', 'h', 'i']\n",
    "print(A[2:8])\n",
    "\n",
    "# Slice with Negative indices\n",
    "A = ['a', 'b', 'c', 'd', 'e', 'f', 'g', 'h', 'i']\n",
    "print(A[-7:-2])\n",
    "\n",
    "# Slice with Positive & Negative Indices\n",
    "A = ['a', 'b', 'c', 'd', 'e', 'f', 'g', 'h', 'i']\n",
    "print(A[2:-5])\n",
    "\n",
    "#Step of the Slicing\n",
    "# Return every 2nd item between position 2 to 7\n",
    "A = ['a', 'b', 'c', 'd', 'e', 'f', 'g', 'h', 'i']\n",
    "print(A[2:7:2])\n",
    "\n",
    "# Negative step size\n",
    "# Return every 2nd item between position 6 to 1\n",
    "A = ['a', 'b', 'c', 'd', 'e', 'f', 'g', 'h', 'i']\n",
    "print(A[6:1:-2])\n",
    "\n",
    "# Slice at Beginning & End\n",
    "# Slice the first three items from the list\n",
    "A = ['a', 'b', 'c', 'd', 'e', 'f', 'g', 'h', 'i']\n",
    "print(A[:3])\n",
    "\n",
    "# Slice the last three items from the list\n",
    "A = ['a', 'b', 'c', 'd', 'e', 'f', 'g', 'h', 'i']\n",
    "print(A[6:])\n",
    "\n",
    "# Reverese a List\n",
    "A = ['a', 'b', 'c', 'd', 'e']\n",
    "print(A[::-1])\n",
    "\n",
    "#Modify Multiple List values\n",
    "A = ['a', 'b', 'c', 'd', 'e']\n",
    "A[1:4] = [1, 2, 3]\n",
    "print(A)\n",
    "\n",
    "# Replace multiple elements in place of a single element\n",
    "A = ['a', 'b', 'c', 'd', 'e']\n",
    "A[1:2] = [1, 2, 3]\n",
    "print(A)\n",
    "\n",
    "#Delete Multiple List Items\n",
    "A = ['a', 'b', 'c', 'd', 'e']\n",
    "A[1:5] = []\n",
    "print(A)\n",
    "\n",
    "A = ['a', 'b', 'c', 'd', 'e']\n",
    "del A[1:5]\n",
    "print(A)\n",
    "\n",
    "#Clone or Copy a List\n",
    "A1 = ['a', 'b', 'c', 'd', 'e']\n",
    "A2 = A1[:]\n",
    "print(A2)\n",
    "print(A2 is A1)"
   ]
  },
  {
   "cell_type": "code",
   "execution_count": 75,
   "metadata": {},
   "outputs": [
    {
     "output_type": "stream",
     "name": "stdout",
     "text": [
      "True\nFalse\nSIFU\nsifu\nFalse\nTrue\nFalse\nTrue\ns a m m y   l i v e d   i n   a   p r e t t y   h o w   t o w n\nnwot woh ytterp a ni devil ymmas\nUbuntu, Manjaro, Kali\n"
     ]
    },
    {
     "output_type": "execute_result",
     "data": {
      "text/plain": [
       "['s', 'mmy lived in ', ' pretty how town']"
      ]
     },
     "metadata": {},
     "execution_count": 75
    }
   ],
   "source": [
    "# String Operations\n",
    "num = \"32\"\n",
    "name = \"sifu\"\n",
    "\n",
    "print(num.isnumeric())\n",
    "print(name.isnumeric())\n",
    "print(name.upper())\n",
    "print(name.lower())\n",
    "\n",
    "country = \"KENYA\"\n",
    "print(country.islower())\n",
    "print(country.isupper())\n",
    "\n",
    "poem = \"sammy lived in a pretty how town\"\n",
    "print(poem.istitle())\n",
    "print(poem.islower())\n",
    "print(\" \".join(poem))\n",
    "print(\"\".join(reversed(poem)))\n",
    "print(\", \".join([\"Ubuntu\", \"Manjaro\", \"Kali\"]))\n",
    "\n",
    "#split\n",
    "poem.split()\n",
    "poem.split(\"a\")\n",
    "\n",
    "#Replace\n",
    "opinion = \"Ubuntu is better than Kali\"\n",
    "opinion.replace(\"Ubuntu\", \"Kali\")"
   ]
  },
  {
   "cell_type": "code",
   "execution_count": 91,
   "metadata": {},
   "outputs": [
    {
     "output_type": "stream",
     "name": "stdout",
     "text": [
      "{'name': 'Sifu', 'age': 19, 'job': 'Engineer'}\n{'name': 'Sifu', 'age': 19, 'job': 'Engineer'}\nSifu\nNone\nNot Found\n{'name': 'Dingo', 'age': 19, 'job': 'Engineer'}\n{'name': 'Dingo', 'age': 19, 'job': 'Engineer', 'city': 'Nairobi'}\n{'name': 'Sifu', 'age': 30, 'job': 'Engineer', 'city': 'Nairobi', 'email': 'sifu@ke.com'}\n19\n{'name': 'Dingo', 'job': 'Engineer', 'city': 'Nairobi'}\n{'name': 'Sifu', 'job': 'Engineer', 'city': 'Nairobi', 'email': 'sifu@ke.com'}\n('email', 'sifu@ke.com')\n{'age': 30, 'city': 'Nairobi'}\n{}\n['name', 'job', 'city']\n['Dingo', 'Engineer', 'Nairobi']\n[('name', 'Dingo'), ('job', 'Engineer'), ('city', 'Nairobi')]\nname\njob\ncity\nDingo\nEngineer\nNairobi\nname: Dingo\njob: Engineer\ncity: Nairobi\n"
     ]
    }
   ],
   "source": [
    "#Dictionary\n",
    "# Approach 1\n",
    "D = {\n",
    "     'name': 'Sifu',\n",
    "     'age': 19,\n",
    "     'job': 'Engineer'\n",
    "}\n",
    "print(D)\n",
    "\n",
    "# Approach 2: using dict()\n",
    "# Create a dictionary with a list of two-item tuples\n",
    "D = [\n",
    "     ('name', 'Sifu'),\n",
    "     ('age', 19),\n",
    "     ('job', 'Engineer')\n",
    "]\n",
    "\n",
    "D = dict(D)\n",
    "print(D)\n",
    "print(D.get('name'))\n",
    "print(D.get('salary'))\n",
    "print(D.get('salary', 'Not Found'))\n",
    "\n",
    "#Update\n",
    "D['name'] = 'Dingo'\n",
    "print(D)\n",
    "\n",
    "#Add\n",
    "D['city'] = 'Nairobi'\n",
    "print(D)\n",
    "\n",
    "#Merge 2 dictionaries\n",
    "D1 = {\n",
    "      'name': 'Sifu',\n",
    "      'age': 19,\n",
    "      'job': 'Engineer'\n",
    "}\n",
    "\n",
    "D2 = {\n",
    "      'age': 30,\n",
    "      'city': 'Nairobi',\n",
    "      'email': 'sifu@ke.com'\n",
    "}\n",
    "\n",
    "D1.update(D2)\n",
    "print(D1)\n",
    "\n",
    "#Remove Dictionary Items\n",
    "x = D.pop('age')\n",
    "print(x)\n",
    "print(D)\n",
    "\n",
    "#del\n",
    "del D1['age']\n",
    "print(D1)\n",
    "\n",
    "#Remove Last inserted Item\n",
    "y = D2.popitem()\n",
    "print(y)\n",
    "print(D2)\n",
    "\n",
    "#Remove all items\n",
    "D2.clear()\n",
    "print(D2)\n",
    "\n",
    "#Get all keys, Values and Key:Value Pairs\n",
    "print(list(D.keys()))\n",
    "print(list(D.values()))\n",
    "print(list(D.items()))\n",
    "\n",
    "#Traversal\n",
    "for key in D:\n",
    "    print(key)\n",
    "\n",
    "for key in D:\n",
    "    print(D[key])\n",
    "\n",
    "for key, val in D.items():\n",
    "    print(f'{key}: {val}')"
   ]
  },
  {
   "cell_type": "code",
   "execution_count": 93,
   "metadata": {},
   "outputs": [
    {
     "output_type": "stream",
     "name": "stdout",
     "text": [
      "Learning dsa using python\nHello, Erick. You are 20 years old.\nhello world\nhelloworld\nhello\nworld\nhome/user/documents\n1, 3, 5, "
     ]
    }
   ],
   "source": [
    "#Print\n",
    "message = 'Learning dsa using python'\n",
    "print(message)\n",
    "\n",
    "#f-string -> With Variables\n",
    "name, age = \"Erick\", 20\n",
    "message = f\"Hello, {name}. You are {age} years old.\"\n",
    "print(message)\n",
    "\n",
    "#With Separator\n",
    "print('hello', 'world')\n",
    "print('hello', 'world', sep='')\n",
    "print('hello', 'world', sep='\\n')\n",
    "print('home', 'user', 'documents', sep='/')\n",
    "\n",
    "#With End\n",
    "A = [1, 3, 5]\n",
    "for num in A:\n",
    "    print(num, end = ', ')"
   ]
  },
  {
   "cell_type": "code",
   "execution_count": 96,
   "metadata": {},
   "outputs": [
    {
     "output_type": "stream",
     "name": "stdout",
     "text": [
      "[0, 1, 2, 3, 4, 5, 6, 7, 8, 9]\n[2, 3, 4, 5, 6, 7, 8, 9]\n[2, 4, 6, 8, 10, 12]\n[9, 8, 7, 6, 5, 4, 3, 2, 1, 0]\n[9, 8, 7, 6, 5, 4, 3, 2, 1]\n[-2, 0, 2, 4]\n"
     ]
    }
   ],
   "source": [
    "#Range\n",
    "print(list(range(10)))\n",
    "\n",
    "#range(start, stop) \n",
    "print(list(range(2, 10)))\n",
    "\n",
    "#range(start, stop, step)\n",
    "print(list(range(2, 14, 2)))\n",
    "\n",
    "#In reverse\n",
    "print(list(range(9, -1, -1))) \n",
    "print(list(range(9, 0, -1))) \n",
    "print(list(range(-2, 6, 2)))"
   ]
  },
  {
   "cell_type": "code",
   "execution_count": 100,
   "metadata": {},
   "outputs": [
    {
     "output_type": "stream",
     "name": "stdout",
     "text": [
      "['PopOs', 'Mint', 'Ubuntu']\n['PopOs', 'Mint', 'Ubuntu']\n<class 'reversed'>\n[5, 4, 3, 2, 1]\n"
     ]
    }
   ],
   "source": [
    "#Reverse\n",
    "distros = ['Ubuntu', 'Mint', 'PopOs']\n",
    "distros.reverse()\n",
    "\n",
    "print(distros)\n",
    "\n",
    "#Reverse using slcing operator\n",
    "distros = ['Ubuntu', 'Mint', 'PopOs']\n",
    "reversed_distros = distros[::-1]\n",
    "print(reversed_distros)\n",
    "\n",
    "#Reversed\n",
    "reversed_distros = reversed(distros)\n",
    "print(reversed)\n",
    "\n",
    "lst = [1, 2, 3, 4, 5]\n",
    "print(list(reversed(lst)))"
   ]
  },
  {
   "cell_type": "code",
   "execution_count": 107,
   "metadata": {},
   "outputs": [
    {
     "output_type": "stream",
     "name": "stdout",
     "text": [
      "2.5\n2\n1\n(2, 1)\n2 1\n"
     ]
    }
   ],
   "source": [
    "#Division\n",
    "print(5/2)\n",
    "\n",
    "#Floor Division\n",
    "print(5//2)\n",
    "\n",
    "#modulo\n",
    "print(5%2)\n",
    "\n",
    "#divmod\n",
    "print(divmod(5, 2))\n",
    "\n",
    "dividend, remainder = divmod(5, 2)\n",
    "print(dividend, remainder)"
   ]
  },
  {
   "cell_type": "code",
   "execution_count": 109,
   "metadata": {},
   "outputs": [
    {
     "output_type": "stream",
     "name": "stdout",
     "text": [
      "2 4 6 8 "
     ]
    }
   ],
   "source": [
    "# Get even numbers\n",
    "for number in range(1, 10):\n",
    "    if number % 2 == 0:\n",
    "        print(number, end=' ')"
   ]
  },
  {
   "cell_type": "code",
   "execution_count": 110,
   "metadata": {},
   "outputs": [
    {
     "output_type": "stream",
     "name": "stdout",
     "text": [
      "1 3 5 7 9 "
     ]
    }
   ],
   "source": [
    "#Get odd numbers\n",
    "for number in range(1, 10):\n",
    "    if number % 2 != 0:\n",
    "        print(number, end=' ')"
   ]
  },
  {
   "cell_type": "code",
   "execution_count": 113,
   "metadata": {},
   "outputs": [],
   "source": [
    "#Check if number is a palindrome\n",
    "def is_palindrome(num):\n",
    "    original_num = num\n",
    "    reversed_num = 0\n",
    "\n",
    "    while (num != 0):\n",
    "        num, rem = divmod(num, 10)\n",
    "        reversed_num = (reversed_num * 10) + rem\n",
    "\n",
    "    return original_num == reversed_num\n",
    "\n",
    "assert is_palindrome(121) == True\n",
    "assert is_palindrome(1212) == False"
   ]
  },
  {
   "cell_type": "code",
   "execution_count": 117,
   "metadata": {},
   "outputs": [
    {
     "output_type": "stream",
     "name": "stdout",
     "text": [
      "Bob is a developer\nEvans is a Engineer\nBob is a Manager\nJohn is a developer\n7\n"
     ]
    }
   ],
   "source": [
    "#Functions\n",
    "# Pass two arguments\n",
    "def func(name, job):\n",
    "    print(name, 'is a', job)\n",
    "\n",
    "func('Bob', 'developer')\n",
    "#or\n",
    "func(name='Evans', job='Engineer')\n",
    "\n",
    "#Default Args\n",
    "def func2(name, job='developer'):\n",
    "    print(name, 'is a', job)\n",
    "\n",
    "func2('Bob', 'Manager')\n",
    "func2('John')\n",
    "\n",
    "#Return value\n",
    "def sum(a, b):\n",
    "    return a + b\n",
    "\n",
    "x = sum(3, 4)\n",
    "print(x)\n"
   ]
  },
  {
   "cell_type": "code",
   "execution_count": 118,
   "metadata": {},
   "outputs": [
    {
     "output_type": "stream",
     "name": "stdout",
     "text": [
      "5\n4\n3\n2\n1\nStop\n"
     ]
    }
   ],
   "source": [
    "#Recursion\n",
    "def countdown(num):\n",
    "    if num <= 0:\n",
    "        print('Stop')\n",
    "    else:\n",
    "        print(num)\n",
    "        countdown(num-1)\n",
    "\n",
    "countdown(5)"
   ]
  },
  {
   "cell_type": "code",
   "execution_count": 124,
   "metadata": {},
   "outputs": [
    {
     "output_type": "stream",
     "name": "stdout",
     "text": [
      "{1: 4, 5: 1, 2: 2, 3: 1}\n{1: 4, 5: 2, 2: 2, 3: 1}\n{1: 4, 5: 2, 2: 3, 3: 1}\n{1: 5, 5: 2, 2: 3, 3: 1}\n{1: 5, 5: 2, 2: 3, 3: 2}\n{1: 5, 5: 2, 2: 4, 3: 2}\n{1: 6, 5: 2, 2: 4, 3: 2}\n"
     ]
    }
   ],
   "source": [
    "#Hashmap Frequency\n",
    "A = [1, 5, 2, 1, 3, 2, 1]\n",
    "\n",
    "freq = {}\n",
    "#Method 1\n",
    "for num in A:\n",
    "    if num in freq:\n",
    "        freq[num] = freq[num] + 1\n",
    "    else:\n",
    "        freq[num] = 1\n",
    "        \n",
    "#Method2\n",
    "for num in A:\n",
    "    freq[num] = freq.get(num, 0) + 1\n",
    "    print(freq)"
   ]
  },
  {
   "cell_type": "code",
   "execution_count": null,
   "metadata": {},
   "outputs": [],
   "source": [
    "#Infinity\n",
    "#Positive Infinity\n",
    "positive_infinity = float('inf')\n",
    "\n",
    "#Alternative\n",
    "import math\n",
    "math.inf\n",
    "\n",
    "#Negative infinity\n",
    "negative_infinity = float('-inf')\n",
    "\n",
    "#Alternative\n",
    "import math\n",
    "-math.inf"
   ]
  },
  {
   "cell_type": "code",
   "execution_count": null,
   "metadata": {},
   "outputs": [],
   "source": [
    "#Get smallest element in Array\n",
    "def get_smallest(A):\n",
    "    #Initialize max with largest num ever(Negative Infinity)\n",
    "    smallest = float('inf') \n",
    "        \n",
    "    for num in A:\n",
    "        if num < smallest:\n",
    "            smallest = num\n",
    "    \n",
    "    return smallest  "
   ]
  },
  {
   "cell_type": "code",
   "execution_count": null,
   "metadata": {},
   "outputs": [],
   "source": [
    "#Get largest element in array\n",
    "def get_largest(A):\n",
    "    # Initialize max smallest num ever(Positive Infinity)\n",
    "    largest = float('-inf') \n",
    "        \n",
    "    for num in A:\n",
    "        if num > largest:\n",
    "            largest = num\n",
    "    \n",
    "    return largest"
   ]
  },
  {
   "cell_type": "code",
   "execution_count": 125,
   "metadata": {},
   "outputs": [],
   "source": [
    "#2D array\n",
    "# Approach 1\n",
    "n_rows, n_cols = 5, 8\n",
    "matrix = [[0 for _ in range(n_rows)] for _ in range(n_cols)]\n",
    "\n",
    "#approach 2\n",
    "n_rows, n_cols = 5, 8\n",
    "matrix = [[0] * n_rows for _ in range(n_cols)]"
   ]
  },
  {
   "cell_type": "code",
   "execution_count": 126,
   "metadata": {},
   "outputs": [
    {
     "output_type": "stream",
     "name": "stdout",
     "text": [
      "1 2 3 4 5 6 7 8 9 10 11 12 "
     ]
    }
   ],
   "source": [
    "#Iteration\n",
    "A = [\n",
    "    [1, 2, 3, 4],\n",
    "    [5, 6, 7, 8],\n",
    "    [9, 10, 11, 12]\n",
    "]\n",
    "\n",
    "n, m = len(A), len(A[0])\n",
    "\n",
    "for row in range(n):\n",
    "    for col in range(m):\n",
    "        print(A[row][col], end=' ')"
   ]
  },
  {
   "cell_type": "code",
   "execution_count": 130,
   "metadata": {},
   "outputs": [
    {
     "output_type": "stream",
     "name": "stdout",
     "text": [
      "['2']\n['2', '5']\n['2', '5', '6']\n[1, 4, 9, 16]\n[1]\n[1, 4]\n[1, 4, 6]\n[1, 4, 6, 6]\n"
     ]
    }
   ],
   "source": [
    "#Map\n",
    "A = [2, 5, 6]\n",
    "\n",
    "new_a = map(str, A)\n",
    "new_a = list(new_a) # ['2', '5', '6']\n",
    "\n",
    "#Normal operation\n",
    "new_a = []\n",
    "for num in A:\n",
    "    new_a.append(str(num))\n",
    "    print(new_a)\n",
    "\n",
    "#square each element\n",
    "numbers = (1, 2, 3, 4)\n",
    "result = map(lambda x: x*x, numbers)\n",
    "print(list(result))\n",
    "\n",
    "#Length of every word\n",
    "words = [\"I\", \"like\", \"honest\", \"people\"]\n",
    "\n",
    "result = map(len, words)\n",
    "list(result)\n",
    "\n",
    "result = []\n",
    "for word in words:\n",
    "    result.append(len(word))\n",
    "    print(result)\n",
    "\n",
    "#Str methods\n",
    "string_it = [\"best\", \"with\", \"map\"]\n",
    "list(map(str.capitalize, string_it))\n",
    "\n",
    "list(map(str.upper, string_it))\n",
    "\n",
    "list(map(str.lower, string_it))\n",
    "\n",
    "with_spaces = [\"processing \", \"  strings\", \" map   \"]\n",
    "list(map(str.strip, with_spaces))\n",
    "\n",
    "with_dots = [\"...strings\", \"with....\", \"..map..\"]\n",
    "list(map(lambda s: s.strip(\".\"), with_dots))\n"
   ]
  },
  {
   "cell_type": "code",
   "execution_count": 131,
   "metadata": {},
   "outputs": [
    {
     "output_type": "error",
     "ename": "NameError",
     "evalue": "name 'j' is not defined",
     "traceback": [
      "\u001b[1;31m---------------------------------------------------------------------------\u001b[0m",
      "\u001b[1;31mNameError\u001b[0m                                 Traceback (most recent call last)",
      "\u001b[1;32m<ipython-input-131-95f0862e6569>\u001b[0m in \u001b[0;36m<module>\u001b[1;34m\u001b[0m\n\u001b[0;32m      7\u001b[0m \u001b[1;33m\u001b[0m\u001b[0m\n\u001b[0;32m      8\u001b[0m \u001b[1;31m#In-Place swapping in Array\u001b[0m\u001b[1;33m\u001b[0m\u001b[1;33m\u001b[0m\u001b[1;33m\u001b[0m\u001b[0m\n\u001b[1;32m----> 9\u001b[1;33m \u001b[0mA\u001b[0m\u001b[1;33m[\u001b[0m\u001b[0mi\u001b[0m\u001b[1;33m]\u001b[0m\u001b[1;33m,\u001b[0m \u001b[0mA\u001b[0m\u001b[1;33m[\u001b[0m\u001b[0mj\u001b[0m\u001b[1;33m]\u001b[0m \u001b[1;33m=\u001b[0m \u001b[0mA\u001b[0m\u001b[1;33m[\u001b[0m\u001b[0mj\u001b[0m\u001b[1;33m]\u001b[0m\u001b[1;33m,\u001b[0m \u001b[0mA\u001b[0m\u001b[1;33m[\u001b[0m\u001b[0mi\u001b[0m\u001b[1;33m]\u001b[0m\u001b[1;33m\u001b[0m\u001b[1;33m\u001b[0m\u001b[0m\n\u001b[0m\u001b[0;32m     10\u001b[0m \u001b[1;33m\u001b[0m\u001b[0m\n\u001b[0;32m     11\u001b[0m \u001b[1;31m# Example\u001b[0m\u001b[1;33m\u001b[0m\u001b[1;33m\u001b[0m\u001b[1;33m\u001b[0m\u001b[0m\n",
      "\u001b[1;31mNameError\u001b[0m: name 'j' is not defined"
     ]
    }
   ],
   "source": [
    "#Swapping\n",
    "#In-Place swapping of two numbers\n",
    "x, y = 5, 7\n",
    "\n",
    "# Swapping \n",
    "x, y = y, x \n",
    "\n",
    "#In-Place swapping in Array\n",
    "A[i], A[j] = A[j], A[i]\n",
    "\n",
    "# Example\n",
    "def swap(A, i, j):\n",
    "    A[i], A[j] = A[j], A[i]"
   ]
  },
  {
   "cell_type": "code",
   "execution_count": 135,
   "metadata": {},
   "outputs": [
    {
     "output_type": "stream",
     "name": "stdout",
     "text": [
      "90\nA\n"
     ]
    }
   ],
   "source": [
    "#ord\n",
    "x = ord('Z')\n",
    "print(x) # 65\n",
    "\n",
    "y = chr(65)\n",
    "print(y) # A"
   ]
  },
  {
   "cell_type": "code",
   "execution_count": 139,
   "metadata": {},
   "outputs": [
    {
     "output_type": "stream",
     "name": "stdout",
     "text": [
      "[(1, 'a'), (2, 'b'), (3, 'c')]\na : 0\nb : 1\nc : 2\n{'name': 'Sifu', 'age': '45', 'job': 'Engineer'}\n"
     ]
    }
   ],
   "source": [
    "#ZIp\n",
    "#Creates an iterator that will aggregate elements from two or more iterables\n",
    "\n",
    "#Creation\n",
    "numbers = [1, 2, 3]\n",
    "letters = ['a', 'b', 'c']\n",
    "\n",
    "combined = zip(numbers, letters)\n",
    "print(list(combined))\n",
    "\n",
    "#Traversing\n",
    "letters = ['a', 'b', 'c']\n",
    "numbers = [0, 1, 2]\n",
    "\n",
    "for letter, num in zip(letters, numbers):\n",
    "    print(f'{letter} : {num}')\n",
    "\n",
    "#Building a dictionary\n",
    "fields = ['name', 'age', 'job']\n",
    "values = ['Sifu', '45', 'Engineer']\n",
    "\n",
    "a_dict = dict(zip(fields, values))\n",
    "print(a_dict)"
   ]
  },
  {
   "cell_type": "code",
   "execution_count": 150,
   "metadata": {},
   "outputs": [
    {
     "output_type": "stream",
     "name": "stdout",
     "text": [
      "[0, 4, 1, 3, 2]\n"
     ]
    }
   ],
   "source": [
    "#Create Target array in the given order\n",
    "\n",
    "\n",
    "def createTargetArray(nums, index):\n",
    "    \n",
    "    results = []\n",
    "\n",
    "    for num, idx in zip(nums, index):\n",
    "        results.insert(idx, num)  \n",
    "\n",
    "    return results\n",
    "\n",
    "nums = [0,1,2,3,4]\n",
    "index = [0,1,2,2,1]\n",
    "\n",
    "print(createTargetArray(nums, index))"
   ]
  },
  {
   "cell_type": "code",
   "execution_count": 153,
   "metadata": {},
   "outputs": [
    {
     "output_type": "stream",
     "name": "stdout",
     "text": [
      "abcdefghijklmnopqrstuvwxyzABCDEFGHIJKLMNOPQRSTUVWXYZ\nabcdefghijklmnopqrstuvwxyz\nABCDEFGHIJKLMNOPQRSTUVWXYZ\n0123456789\n0123456789abcdefABCDEF\n \t\n\u000b\f\n!\"#$%&'()*+,-./:;<=>?@[\\]^_`{|}~\nWelcome To Journaldev\n"
     ]
    }
   ],
   "source": [
    "#String\n",
    "import string\n",
    "\n",
    "print(string.ascii_letters)\n",
    "print(string.ascii_lowercase)\n",
    "print(string.ascii_uppercase)\n",
    "print(string.digits)\n",
    "print(string.hexdigits)\n",
    "print(string.whitespace)\n",
    "print(string.punctuation)\n",
    "\n",
    "#capwords()\n",
    "#This function split the specified string into words using str.split(). \n",
    "#Then it capitalizes each word using str.capitalize() function. \n",
    "#Finally, it joins the capitalized words using str.join().\n",
    "s = '  Welcome TO  \\n\\n JournalDev '\n",
    "print(string.capwords(s))"
   ]
  },
  {
   "cell_type": "code",
   "execution_count": 155,
   "metadata": {},
   "outputs": [
    {
     "output_type": "stream",
     "name": "stdout",
     "text": [
      "\n0.9459647212724165\n20\n1\n9\no\n43\n['toyota', 'chrysler']\n[43, 45, 65, 12, 23, 67]\n"
     ]
    }
   ],
   "source": [
    "#Random\n",
    "import random\n",
    "print()\n",
    "print(random.random())\n",
    "print(random.randint(1, 100))\n",
    "print(random.randrange(1, 10))\n",
    "print(random.randrange(1, 10, 2))\n",
    "print(random.choice('computer'))\n",
    "print(random.choice([12, 23, 45, 67, 65, 43]))\n",
    "\n",
    "myList = [\"bmw\", \"volvo\", \"toyota\", \"chrysler\"]\n",
    "print(random.sample(myList, 2))\n",
    "\n",
    "numbers=[12, 23, 45, 67, 65, 43]\n",
    "random.shuffle(numbers)\n",
    "print(numbers)"
   ]
  },
  {
   "cell_type": "code",
   "execution_count": 164,
   "metadata": {},
   "outputs": [
    {
     "output_type": "stream",
     "name": "stdout",
     "text": [
      "Counter({1: 3, 2: 2, 3: 1, 4: 1})\n[(1, 3), (2, 2), (3, 1), (4, 1)]\n0\ndefaultdict(<class 'int'>, {'Mike': 1})\ndefaultdict(<class 'int'>, {'Mike': 1, 'John': 1})\ndefaultdict(<class 'int'>, {'Mike': 2, 'John': 1})\ndefaultdict(<class 'int'>, {'Mike': 2, 'John': 1, 'Anna': 1})\ndefaultdict(<class 'int'>, {'Mike': 3, 'John': 1, 'Anna': 1})\ndefaultdict(<class 'int'>, {'Mike': 3, 'John': 2, 'Anna': 1})\ndefaultdict(<class 'int'>, {'Mike': 3, 'John': 2, 'Anna': 1, 'Smith': 1})\n{'a': 1, 'b': 2, 'c': 3}\ndeque(['a', 'b', 'c'])\ndeque(['e', 'a', 'b', 'c', 'd'])\ndeque(['a', 'b', 'c'])\ndeque([])\n0\nSifu\nStudent(fname='Dingo', lname='Kaulu', age='18')\n{'fname': 'Sifu', 'lname': 'Clarke', 'age': '13'}\n"
     ]
    }
   ],
   "source": [
    "#Collections\n",
    "#Counter\n",
    "\n",
    "from collections import Counter\n",
    "\n",
    "lst = [1, 2, 3, 4, 1, 2, 1]\n",
    "cnt = Counter(lst)\n",
    "print(cnt)\n",
    "print(cnt.most_common())\n",
    "\n",
    "#Defaultdict\n",
    "from collections import defaultdict\n",
    "\n",
    "nums = defaultdict(int)\n",
    "nums['one'] = 1\n",
    "nums['two'] = 2\n",
    "print(nums['three'])\n",
    "\n",
    "#Usage\n",
    "from collections import defaultdict\n",
    "\n",
    "count = defaultdict(int)\n",
    "names_list = ['Mike', 'John', 'Mike', 'Anna', 'Mike', 'John', 'Smith']\n",
    "\n",
    "for names in names_list:\n",
    "    count[names] +=1\n",
    "    print(count)\n",
    "\n",
    "#OrderedDict\n",
    "from collections import OrderedDict\n",
    "\n",
    "od = OrderedDict()\n",
    "od['a'] = 1\n",
    "od['b'] = 2\n",
    "od['c'] = 3\n",
    "print(dict(od))\n",
    "\n",
    "#Deque\n",
    "#a list optimized for inserting and removing items.\n",
    "from collections import deque\n",
    "\n",
    "list = [\"a\", \"b\", \"c\"]\n",
    "deq = deque(list)\n",
    "print(deq)\n",
    "#Inserting Elements\n",
    "deq.append(\"d\")\n",
    "deq.appendleft(\"e\")\n",
    "print(deq)\n",
    "\n",
    "deq.pop()\n",
    "deq.popleft()\n",
    "print(deq)\n",
    "\n",
    "deq.clear()\n",
    "print(deq)\n",
    "\n",
    "print(deq.count(\"a\"))\n",
    "\n",
    "#namedtuple\n",
    "from collections import namedtuple\n",
    "\n",
    "Student = namedtuple('Student', 'fname, lname, age')\n",
    "s1 = Student('Sifu', 'Clarke', '13')\n",
    "print(s1.fname)\n",
    "\n",
    "# Creating a namedtuple Using List\n",
    "s2 = Student._make(['Dingo', 'Kaulu', '18'])\n",
    "print(s2)\n",
    "\n",
    "# Create a New Instance Using Existing Instance\n",
    "s2 = s1._asdict()\n",
    "print(s2)"
   ]
  },
  {
   "cell_type": "code",
   "execution_count": 165,
   "metadata": {},
   "outputs": [],
   "source": [
    "#Contains Duplicate\n",
    "def containsDuplicate(nums):\n",
    "    freq = {}\n",
    "\n",
    "    for num in nums:\n",
    "        count = freq.get(num, 0) + 1\n",
    "\n",
    "        if count > 1:\n",
    "            return True\n",
    "            \n",
    "        freq[num] = count\n",
    "\n",
    "    return False\n",
    "\n",
    "assert containsDuplicate([1, 2, 3, 1]) == True\n",
    "assert containsDuplicate([1, 2, 3, 4]) == False\n",
    "assert containsDuplicate([1, 1, 1, 3, 3, 4, 3, 2, 4, 2]) == True"
   ]
  },
  {
   "cell_type": "code",
   "execution_count": null,
   "metadata": {},
   "outputs": [],
   "source": [
    "#Repeating Character\n",
    "def firstRepeatingCharacter(s):\n",
    "    seen = set()\n",
    "    \n",
    "    for char in s:\n",
    "        if char in seen:\n",
    "            return char\n",
    "        \n",
    "        seen.add(char)\n",
    "        \n",
    "    return '\\0'\n",
    "    "
   ]
  },
  {
   "cell_type": "code",
   "execution_count": null,
   "metadata": {},
   "outputs": [],
   "source": [
    "#Ransom Note\n",
    "def canConstruct(ransomNote: str, magazine: str) -> bool:\n",
    "    if len(ransomNote) > len(magazine):\n",
    "        return False\n",
    "\n",
    "    freqs = {}\n",
    "    for ch in magazine:\n",
    "        freqs[ch] = freqs.get(ch, 0) + 1\n",
    "\n",
    "    for c in ransomNote:\n",
    "        if c not in freqs or freqs[c] == 0:\n",
    "            return False\n",
    "\n",
    "        freqs[c] -= 1\n",
    "\n",
    "    return True\n",
    "    \n",
    "    \n",
    "assert canConstruct('a', 'b') == False\n",
    "assert canConstruct('aa', 'ab') == False\n",
    "assert canConstruct('aa', 'aab') == True"
   ]
  },
  {
   "cell_type": "code",
   "execution_count": null,
   "metadata": {},
   "outputs": [],
   "source": [
    "#Jewels and stones\n",
    "def numJewelsInStones(J: str, S: str) -> int:\n",
    "    jewels = set(J)\n",
    "    \n",
    "    count = 0\n",
    "    for stone in S:\n",
    "        if stone in jewels:\n",
    "            count += 1\n",
    "    \n",
    "    return count\n",
    "    \n",
    "\n",
    "assert numJewelsInStones('aA', 'aAAbbbb') == 3\n",
    "assert numJewelsInStones('z', 'ZZ') == 0"
   ]
  },
  {
   "cell_type": "code",
   "execution_count": null,
   "metadata": {},
   "outputs": [],
   "source": []
  },
  {
   "cell_type": "code",
   "execution_count": null,
   "metadata": {},
   "outputs": [],
   "source": [
    "#First unique character\n",
    "def firstUniqChar(s: str):\n",
    "    _hash = {}\n",
    "\n",
    "    for char in s:\n",
    "        _hash[char] = _hash.get(char, 0) + 1\n",
    "\n",
    "    for i in range(len(s)):\n",
    "        if _hash[s[i]] == 1:\n",
    "            return i\n",
    "\n",
    "    return -1\n",
    "\n",
    "\n",
    "assert firstUniqChar(\"leetcode\") == 0\n",
    "assert firstUniqChar(\"loveleetcode\") == 2"
   ]
  },
  {
   "cell_type": "code",
   "execution_count": null,
   "metadata": {},
   "outputs": [],
   "source": [
    "#Max Freq Number\n",
    "def mostFrequent(arr):\n",
    "    freq = {}\n",
    "\n",
    "    for num in arr:\n",
    "        freq[num] = freq.get(num, 0) + 1\n",
    "\n",
    "    max_count, res = 0, -1\n",
    "    for k, v in freq.items():\n",
    "        if v > max_count:\n",
    "            max_count = v\n",
    "            res = k\n",
    "\n",
    "    return res\n",
    "\n",
    "assert mostFrequent(1, 5, 2, 1, 3, 2, 1]) == 1\n",
    "\n",
    "#Approach2\n",
    "def mostFrequent2(arr):\n",
    "    freq = {}\n",
    "    max_count, most_frequent = 0, -1\n",
    "\n",
    "    for num in arr:\n",
    "        freq[num] = freq.get(num, 0) + 1\n",
    "\n",
    "        curr = freq[num]\n",
    "        if curr > max_count:\n",
    "            max_count = curr\n",
    "            most_frequent = num\n",
    "\n",
    "    return num\n",
    "\n",
    "assert mostFrequent2(1, 5, 2, 1, 3, 2, 1]) == 1"
   ]
  }
 ]
}