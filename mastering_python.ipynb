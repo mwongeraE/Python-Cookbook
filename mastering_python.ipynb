{
 "cells": [
  {
   "cell_type": "code",
   "execution_count": 7,
   "metadata": {},
   "outputs": [
    {
     "name": "stdout",
     "output_type": "stream",
     "text": [
      "[0, 1, 2, 3, 4, 5, 6, 7, 8, 9]\n",
      "[0, 1, 2, 3, 4, 6, 7, 8, 9]\n",
      "[0, 1, 5, 2, 3, 4, 6, 7, 8, 9]\n"
     ]
    }
   ],
   "source": [
    "def remove(items, value):\n",
    "  neew_items = []\n",
    "  found = False\n",
    "  for item in items:\n",
    "    # Skip the first item which is equal to value\n",
    "    if not found and item == value:\n",
    "      found = True\n",
    "      continue\n",
    "    neew_items.append(item)\n",
    "    \n",
    "  if not found:\n",
    "    raise ValueError('list.remove(x): x not in list')\n",
    "    \n",
    "  return neew_items\n",
    "  \n",
    "  \n",
    "def insert(items, index, value):\n",
    "  new_items = []\n",
    "  for i, item in enumerate(items):\n",
    "    if i == index:\n",
    "      new_items.append(value)\n",
    "        \n",
    "    new_items.append(item)\n",
    "  return new_items\n",
    "\n",
    "\n",
    "items = list(range(10))\n",
    "print(items)\n",
    "\n",
    "items = remove(items, 5)\n",
    "print(items)\n",
    "\n",
    "items = insert(items, 2, 5)\n",
    "print(items)"
   ]
  },
  {
   "cell_type": "code",
   "execution_count": 2,
   "metadata": {},
   "outputs": [
    {
     "name": "stdout",
     "output_type": "stream",
     "text": [
      "[0, 4, 6, 8, 9]\n",
      "[0, 4, 6, 8, 9]\n",
      "[0, 4, 6, 8, 9]\n"
     ]
    }
   ],
   "source": [
    "primes = set((1, 2, 3, 5, 7))\n",
    "\n",
    "#classic solution\n",
    "items = list(range(10))\n",
    "for prime in primes:\n",
    "  items.remove(prime)\n",
    "  \n",
    "print(items)\n",
    "\n",
    "\n",
    "#List comprehension\n",
    "items = list(range(10))\n",
    "print([item for item in items if item not in primes])\n",
    "\n",
    "# Filter\n",
    "items = list(range(10))\n",
    "filter_item = list(filter(lambda item: item not in primes, items))\n",
    "print(filter_item)"
   ]
  },
  {
   "cell_type": "code",
   "execution_count": 6,
   "metadata": {},
   "outputs": [
    {
     "name": "stdout",
     "output_type": "stream",
     "text": [
      "Count for e: 1\n",
      "Count for g: 2\n",
      "Count for g: 2\n",
      "Count for s: 1\n",
      "11.0: 14375\n",
      "10.0: 13125\n",
      "9.0: 11875\n",
      "8.0: 10625\n",
      "12.0: 10000\n"
     ]
    }
   ],
   "source": [
    "import collections\n",
    "\n",
    "counter = collections.Counter('eggs')\n",
    "for k in 'eggs':\n",
    "  print('Count for %s: %d' % (k, counter[k]))\n",
    "  \n",
    "import math\n",
    "counter2 = collections.Counter()\n",
    "for i in range(0, 100000):\n",
    "  counter2[math.sqrt(i) // 25] += 1\n",
    "  \n",
    "for key, count in counter2.most_common(5):\n",
    "  print('%s: %d' % (key, count))"
   ]
  },
  {
   "cell_type": "code",
   "execution_count": 15,
   "metadata": {},
   "outputs": [
    {
     "name": "stdout",
     "output_type": "stream",
     "text": [
      "{'a': ['b', 'c'], 'b': ['a', 'd'], 'c': ['a'], 'd': ['a', 'b', 'c']}\n",
      "defaultdict(<class 'list'>,\n",
      "            {'a': ['b', 'c'],\n",
      "             'b': ['a', 'd'],\n",
      "             'c': ['a'],\n",
      "             'd': ['a', 'b', 'c']})\n",
      "Tree {\n",
      "    \"other\": {\n",
      "        \"black\": 0,\n",
      "        \"white\": 16777215\n",
      "    },\n",
      "    \"primary\": {\n",
      "        \"green\": 65280,\n",
      "        \"red\": 16711680\n",
      "    }\n",
      "}\n"
     ]
    }
   ],
   "source": [
    "# defaultdict\n",
    "import pprint\n",
    "\n",
    "nodes = [\n",
    "  ('a', 'b'),\n",
    "  ('a', 'c'),\n",
    "  ('b', 'a'),\n",
    "  ('b', 'd'),\n",
    "  ('c', 'a'),\n",
    "  ('d', 'a'),\n",
    "  ('d', 'b'),\n",
    "  ('d', 'c'),\n",
    "]\n",
    "\n",
    "graph = dict()\n",
    "\n",
    "for from_, to in nodes:\n",
    "  if from_ not in graph:\n",
    "    graph[from_] = []\n",
    "  graph[from_].append(to)\n",
    "\n",
    "pprint.pprint(graph)  \n",
    "\n",
    "import collections\n",
    "\n",
    "graph = collections.defaultdict(list)\n",
    "for from_, to in nodes:\n",
    "  graph[from_].append(to)\n",
    "  \n",
    "pprint.pprint(graph)\n",
    "\n",
    "import json\n",
    "\n",
    "def tree():\n",
    "  return collections.defaultdict(tree)\n",
    "\n",
    "colours = tree()\n",
    "colours['other']['black'] = 0x000000\n",
    "colours['other']['white'] = 0xFFFFFF\n",
    "colours['primary']['red'] = 0xFF0000\n",
    "colours['primary']['green'] = 0x00FF00\n",
    "\n",
    "print(\"Tree\", json.dumps(colours, sort_keys=True, indent=4))\n"
   ]
  },
  {
   "cell_type": "code",
   "execution_count": 18,
   "metadata": {},
   "outputs": [
    {
     "name": "stdout",
     "output_type": "stream",
     "text": [
      "Color.red\n",
      "Color.red\n",
      "Color.red\n",
      "red\n",
      "1\n",
      "False\n",
      "True\n"
     ]
    }
   ],
   "source": [
    "# enum\n",
    "import enum\n",
    "\n",
    "class Color(enum.Enum):\n",
    "  red = 1\n",
    "  green = 2\n",
    "  blue = 3\n",
    "  \n",
    "print(Color.red)\n",
    "print(Color['red'])\n",
    "print(Color(1))\n",
    "print(Color.red.name)\n",
    "print(Color.red.value)\n",
    "\n",
    "class Spam(enum.Enum):\n",
    "  EGGS = 'eggs'\n",
    "  \n",
    "print(Spam.EGGS == 'eggs')\n",
    "\n",
    "class Spam2(str, enum.Enum):\n",
    "  EGGS = 'eggs'\n",
    "\n",
    "print(Spam2.EGGS == 'eggs')"
   ]
  },
  {
   "cell_type": "code",
   "execution_count": 20,
   "metadata": {},
   "outputs": [
    {
     "name": "stdout",
     "output_type": "stream",
     "text": [
      "OrderedDict([('b', 2), ('c', 3), ('a', 5)])\n",
      "OrderedDict([('a', 5), ('b', 2), ('c', 3)])\n"
     ]
    }
   ],
   "source": [
    "# OrderedDict\n",
    "import collections\n",
    "\n",
    "spam = collections.OrderedDict()\n",
    "spam['b'] = 2\n",
    "spam['c'] = 3\n",
    "spam['a'] = 5\n",
    "\n",
    "print(spam)\n",
    "\n",
    "eggs = collections.OrderedDict(sorted(spam.items()))\n",
    "print(eggs)\n"
   ]
  },
  {
   "cell_type": "code",
   "execution_count": 22,
   "metadata": {},
   "outputs": [
    {
     "name": "stdout",
     "output_type": "stream",
     "text": [
      "[1, 2, 3, 7, 3, 4, 5]\n",
      "1 [2, 3, 3, 7, 5, 4]\n",
      "2 [3, 3, 4, 7, 5]\n",
      "3 [3, 5, 4, 7]\n",
      "3 [4, 5, 7]\n",
      "4 [5, 7]\n",
      "5 [7]\n",
      "7 []\n"
     ]
    }
   ],
   "source": [
    "#heapq\n",
    "import heapq\n",
    "\n",
    "heap = [1, 3, 5, 7, 2, 4, 3]\n",
    "heapq.heapify(heap)\n",
    "\n",
    "print(heap)\n",
    "\n",
    "while heap:\n",
    "  print(heapq.heappop(heap), heap)"
   ]
  },
  {
   "cell_type": "code",
   "execution_count": 23,
   "metadata": {},
   "outputs": [
    {
     "name": "stdout",
     "output_type": "stream",
     "text": [
      "True\n",
      "False\n"
     ]
    }
   ],
   "source": [
    "#Bisect\n",
    "import bisect\n",
    "\n",
    "sorted_list = [1, 2, 3, 5]\n",
    "\n",
    "def contains(sorted_list, value):\n",
    "  i = bisect.bisect_left(sorted_list, value)\n",
    "  return i < len(sorted_list) and sorted_list[i] == value\n",
    "\n",
    "print(contains(sorted_list, 2))\n",
    "print(contains(sorted_list, 6))"
   ]
  }
 ],
 "metadata": {
  "kernelspec": {
   "display_name": "Python 3",
   "language": "python",
   "name": "python3"
  },
  "language_info": {
   "codemirror_mode": {
    "name": "ipython",
    "version": 3
   },
   "file_extension": ".py",
   "mimetype": "text/x-python",
   "name": "python",
   "nbconvert_exporter": "python",
   "pygments_lexer": "ipython3",
   "version": "3.9.13"
  },
  "orig_nbformat": 4
 },
 "nbformat": 4,
 "nbformat_minor": 2
}
