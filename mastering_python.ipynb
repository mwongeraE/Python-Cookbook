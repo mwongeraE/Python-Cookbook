{
 "cells": [
  {
   "cell_type": "code",
   "execution_count": 7,
   "metadata": {},
   "outputs": [
    {
     "name": "stdout",
     "output_type": "stream",
     "text": [
      "[0, 1, 2, 3, 4, 5, 6, 7, 8, 9]\n",
      "[0, 1, 2, 3, 4, 6, 7, 8, 9]\n",
      "[0, 1, 5, 2, 3, 4, 6, 7, 8, 9]\n"
     ]
    }
   ],
   "source": [
    "def remove(items, value):\n",
    "  neew_items = []\n",
    "  found = False\n",
    "  for item in items:\n",
    "    # Skip the first item which is equal to value\n",
    "    if not found and item == value:\n",
    "      found = True\n",
    "      continue\n",
    "    neew_items.append(item)\n",
    "    \n",
    "  if not found:\n",
    "    raise ValueError('list.remove(x): x not in list')\n",
    "    \n",
    "  return neew_items\n",
    "  \n",
    "  \n",
    "def insert(items, index, value):\n",
    "  new_items = []\n",
    "  for i, item in enumerate(items):\n",
    "    if i == index:\n",
    "      new_items.append(value)\n",
    "        \n",
    "    new_items.append(item)\n",
    "  return new_items\n",
    "\n",
    "\n",
    "items = list(range(10))\n",
    "print(items)\n",
    "\n",
    "items = remove(items, 5)\n",
    "print(items)\n",
    "\n",
    "items = insert(items, 2, 5)\n",
    "print(items)"
   ]
  },
  {
   "cell_type": "code",
   "execution_count": 2,
   "metadata": {},
   "outputs": [
    {
     "name": "stdout",
     "output_type": "stream",
     "text": [
      "[0, 4, 6, 8, 9]\n",
      "[0, 4, 6, 8, 9]\n",
      "[0, 4, 6, 8, 9]\n"
     ]
    }
   ],
   "source": [
    "primes = set((1, 2, 3, 5, 7))\n",
    "\n",
    "#classic solution\n",
    "items = list(range(10))\n",
    "for prime in primes:\n",
    "  items.remove(prime)\n",
    "  \n",
    "print(items)\n",
    "\n",
    "\n",
    "#List comprehension\n",
    "items = list(range(10))\n",
    "print([item for item in items if item not in primes])\n",
    "\n",
    "# Filter\n",
    "items = list(range(10))\n",
    "filter_item = list(filter(lambda item: item not in primes, items))\n",
    "print(filter_item)"
   ]
  },
  {
   "cell_type": "code",
   "execution_count": 6,
   "metadata": {},
   "outputs": [
    {
     "name": "stdout",
     "output_type": "stream",
     "text": [
      "Count for e: 1\n",
      "Count for g: 2\n",
      "Count for g: 2\n",
      "Count for s: 1\n",
      "11.0: 14375\n",
      "10.0: 13125\n",
      "9.0: 11875\n",
      "8.0: 10625\n",
      "12.0: 10000\n"
     ]
    }
   ],
   "source": [
    "import collections\n",
    "\n",
    "counter = collections.Counter('eggs')\n",
    "for k in 'eggs':\n",
    "  print('Count for %s: %d' % (k, counter[k]))\n",
    "  \n",
    "import math\n",
    "counter2 = collections.Counter()\n",
    "for i in range(0, 100000):\n",
    "  counter2[math.sqrt(i) // 25] += 1\n",
    "  \n",
    "for key, count in counter2.most_common(5):\n",
    "  print('%s: %d' % (key, count))"
   ]
  },
  {
   "cell_type": "code",
   "execution_count": 15,
   "metadata": {},
   "outputs": [
    {
     "name": "stdout",
     "output_type": "stream",
     "text": [
      "{'a': ['b', 'c'], 'b': ['a', 'd'], 'c': ['a'], 'd': ['a', 'b', 'c']}\n",
      "defaultdict(<class 'list'>,\n",
      "            {'a': ['b', 'c'],\n",
      "             'b': ['a', 'd'],\n",
      "             'c': ['a'],\n",
      "             'd': ['a', 'b', 'c']})\n",
      "Tree {\n",
      "    \"other\": {\n",
      "        \"black\": 0,\n",
      "        \"white\": 16777215\n",
      "    },\n",
      "    \"primary\": {\n",
      "        \"green\": 65280,\n",
      "        \"red\": 16711680\n",
      "    }\n",
      "}\n"
     ]
    }
   ],
   "source": [
    "# defaultdict\n",
    "import pprint\n",
    "\n",
    "nodes = [\n",
    "  ('a', 'b'),\n",
    "  ('a', 'c'),\n",
    "  ('b', 'a'),\n",
    "  ('b', 'd'),\n",
    "  ('c', 'a'),\n",
    "  ('d', 'a'),\n",
    "  ('d', 'b'),\n",
    "  ('d', 'c'),\n",
    "]\n",
    "\n",
    "graph = dict()\n",
    "\n",
    "for from_, to in nodes:\n",
    "  if from_ not in graph:\n",
    "    graph[from_] = []\n",
    "  graph[from_].append(to)\n",
    "\n",
    "pprint.pprint(graph)  \n",
    "\n",
    "import collections\n",
    "\n",
    "graph = collections.defaultdict(list)\n",
    "for from_, to in nodes:\n",
    "  graph[from_].append(to)\n",
    "  \n",
    "pprint.pprint(graph)\n",
    "\n",
    "import json\n",
    "\n",
    "def tree():\n",
    "  return collections.defaultdict(tree)\n",
    "\n",
    "colours = tree()\n",
    "colours['other']['black'] = 0x000000\n",
    "colours['other']['white'] = 0xFFFFFF\n",
    "colours['primary']['red'] = 0xFF0000\n",
    "colours['primary']['green'] = 0x00FF00\n",
    "\n",
    "print(\"Tree\", json.dumps(colours, sort_keys=True, indent=4))\n"
   ]
  },
  {
   "cell_type": "code",
   "execution_count": 18,
   "metadata": {},
   "outputs": [
    {
     "name": "stdout",
     "output_type": "stream",
     "text": [
      "Color.red\n",
      "Color.red\n",
      "Color.red\n",
      "red\n",
      "1\n",
      "False\n",
      "True\n"
     ]
    }
   ],
   "source": [
    "# enum\n",
    "import enum\n",
    "\n",
    "class Color(enum.Enum):\n",
    "  red = 1\n",
    "  green = 2\n",
    "  blue = 3\n",
    "  \n",
    "print(Color.red)\n",
    "print(Color['red'])\n",
    "print(Color(1))\n",
    "print(Color.red.name)\n",
    "print(Color.red.value)\n",
    "\n",
    "class Spam(enum.Enum):\n",
    "  EGGS = 'eggs'\n",
    "  \n",
    "print(Spam.EGGS == 'eggs')\n",
    "\n",
    "class Spam2(str, enum.Enum):\n",
    "  EGGS = 'eggs'\n",
    "\n",
    "print(Spam2.EGGS == 'eggs')"
   ]
  },
  {
   "cell_type": "code",
   "execution_count": 20,
   "metadata": {},
   "outputs": [
    {
     "name": "stdout",
     "output_type": "stream",
     "text": [
      "OrderedDict([('b', 2), ('c', 3), ('a', 5)])\n",
      "OrderedDict([('a', 5), ('b', 2), ('c', 3)])\n"
     ]
    }
   ],
   "source": [
    "# OrderedDict\n",
    "import collections\n",
    "\n",
    "spam = collections.OrderedDict()\n",
    "spam['b'] = 2\n",
    "spam['c'] = 3\n",
    "spam['a'] = 5\n",
    "\n",
    "print(spam)\n",
    "\n",
    "eggs = collections.OrderedDict(sorted(spam.items()))\n",
    "print(eggs)\n"
   ]
  },
  {
   "cell_type": "code",
   "execution_count": 22,
   "metadata": {},
   "outputs": [
    {
     "name": "stdout",
     "output_type": "stream",
     "text": [
      "[1, 2, 3, 7, 3, 4, 5]\n",
      "1 [2, 3, 3, 7, 5, 4]\n",
      "2 [3, 3, 4, 7, 5]\n",
      "3 [3, 5, 4, 7]\n",
      "3 [4, 5, 7]\n",
      "4 [5, 7]\n",
      "5 [7]\n",
      "7 []\n"
     ]
    }
   ],
   "source": [
    "#heapq\n",
    "import heapq\n",
    "\n",
    "heap = [1, 3, 5, 7, 2, 4, 3]\n",
    "heapq.heapify(heap)\n",
    "\n",
    "print(heap)\n",
    "\n",
    "while heap:\n",
    "  print(heapq.heappop(heap), heap)"
   ]
  },
  {
   "cell_type": "code",
   "execution_count": 23,
   "metadata": {},
   "outputs": [
    {
     "name": "stdout",
     "output_type": "stream",
     "text": [
      "True\n",
      "False\n"
     ]
    }
   ],
   "source": [
    "#Bisect\n",
    "import bisect\n",
    "\n",
    "sorted_list = [1, 2, 3, 5]\n",
    "\n",
    "def contains(sorted_list, value):\n",
    "  i = bisect.bisect_left(sorted_list, value)\n",
    "  return i < len(sorted_list) and sorted_list[i] == value\n",
    "\n",
    "print(contains(sorted_list, 2))\n",
    "print(contains(sorted_list, 6))"
   ]
  },
  {
   "cell_type": "code",
   "execution_count": 27,
   "metadata": {},
   "outputs": [
    {
     "name": "stdout",
     "output_type": "stream",
     "text": [
      "[0, 1, 4, 9, 16, 25, 36, 49, 64, 81]\n",
      "[1, 9, 25, 49, 81]\n",
      "[(0, 3), (0, 4), (1, 3), (1, 4), (2, 3), (2, 4)]\n",
      "{0: 0, 1: 1, 2: 4, 3: 9, 4: 16, 5: 25, 6: 36, 7: 49, 8: 64, 9: 81}\n",
      "{1: 1, 3: 9, 5: 25, 7: 49, 9: 81}\n",
      "[0, 0, 0, 0, 1, 2, 0, 2, 4]\n",
      "{0, 1, 2, 4}\n"
     ]
    }
   ],
   "source": [
    "#list comprehensions\n",
    "squares = [x ** 2 for x in range(10)]\n",
    "print(squares)\n",
    "\n",
    "uneven_squares = [x ** 2 for x in range(10) if x % 2]\n",
    "print(uneven_squares)\n",
    "\n",
    "print([(x, y) for x in range(3) for y in range(3, 5)])\n",
    "\n",
    "# dict comprehensions\n",
    "print({x: x ** 2 for x in range(10)})\n",
    "print({x: x ** 2 for x in range(10) if x % 2})\n",
    "\n",
    "# set comprehensions\n",
    "print([x*y for x in range(3) for y in range(3)])\n",
    "print({x*y for x in range(3) for y in range(3)})"
   ]
  },
  {
   "cell_type": "code",
   "execution_count": 28,
   "metadata": {},
   "outputs": [
    {
     "name": "stdout",
     "output_type": "stream",
     "text": [
      "[<Spam: 5>, <Spam: 2>, <Spam: 4>, <Spam: 1>]\n",
      "[<Spam: 1>, <Spam: 2>, <Spam: 4>, <Spam: 5>]\n"
     ]
    }
   ],
   "source": [
    "# Lambda functions\n",
    "class Spam(object):\n",
    "  def __init__(self, value):\n",
    "    self.value = value\n",
    "    \n",
    "  def __repr__(self):\n",
    "    return '<%s: %s>' % (self.__class__.__name__, self.value)\n",
    "  \n",
    "spams = [Spam(5), Spam(2), Spam(4), Spam(1)]\n",
    "sorted_spams = sorted(spams, key=lambda spam: spam.value)\n",
    "\n",
    "print(spams)\n",
    "print(sorted_spams)"
   ]
  },
  {
   "cell_type": "code",
   "execution_count": 38,
   "metadata": {},
   "outputs": [
    {
     "name": "stdout",
     "output_type": "stream",
     "text": [
      "[1, 2, 3]\n",
      "120\n",
      "120\n",
      "{\n",
      "    \"Chordata\": {\n",
      "        \"Vertebrata\": {\n",
      "            \"Reptilia\": {\n",
      "                \"Squamata\": {\n",
      "                    \"Serpentes\": {\n",
      "                        \"Pythonidae\": [\n",
      "                            \"Liasis\",\n",
      "                            \"Morelia\",\n",
      "                            \"Python\"\n",
      "                        ]\n",
      "                    }\n",
      "                }\n",
      "            }\n",
      "        }\n",
      "    }\n",
      "}\n",
      "dict_items([('Pythonidae', ['Liasis', 'Morelia', 'Python'])])\n",
      "dict_keys(['Serpentes'])\n"
     ]
    }
   ],
   "source": [
    "# Functools\n",
    "# partial\n",
    "import functools\n",
    "import heapq\n",
    "\n",
    "heap = []\n",
    "push = functools.partial(heapq.heappush, heap)\n",
    "smallest = functools.partial(heapq.nsmallest, iterable=heap)\n",
    "\n",
    "push(1)\n",
    "push(3)\n",
    "push(5)\n",
    "push(2)\n",
    "push(4)\n",
    "\n",
    "print(smallest(3))\n",
    "\n",
    "# reduce - implementing factorial\n",
    "import operator \n",
    "\n",
    "res = functools.reduce(operator.mul, range(1, 6))\n",
    "print(res)\n",
    "\n",
    "#or with a while loop using deque collection\n",
    "import collections\n",
    "\n",
    "iterable = collections.deque(range(1, 6))\n",
    "\n",
    "value = iterable.popleft()\n",
    "while iterable:\n",
    "  value = operator.mul(value, iterable.popleft())\n",
    "  \n",
    "print(value)\n",
    "\n",
    "# processing trees\n",
    "import json\n",
    "\n",
    "def tree():\n",
    "  return collections.defaultdict(tree)\n",
    "\n",
    "taxonomy = tree()\n",
    "reptilia = taxonomy['Chordata']['Vertebrata']['Reptilia']\n",
    "reptilia['Squamata']['Serpentes']['Pythonidae'] = ['Liasis', 'Morelia', 'Python']\n",
    "\n",
    "print(json.dumps(taxonomy, indent=4))\n",
    "\n",
    "path = 'Chordata.Vertebrata.Reptilia.Squamata.Serpentes'\n",
    "# Split the path for easier access\n",
    "path = path.split('.')\n",
    "\n",
    "#fetch the path using reduce to recursively fetch the ittems\n",
    "family = functools.reduce(lambda a, b: a[b], path, taxonomy)\n",
    "print(family.items())\n",
    "\n",
    "path = 'Chordata.Vertebrata.Reptilia.Squamata'.split('.')\n",
    "\n",
    "suborder = functools.reduce(lambda a, b: a[b], path, taxonomy)\n",
    "print(suborder.keys())\n"
   ]
  }
 ],
 "metadata": {
  "kernelspec": {
   "display_name": "Python 3",
   "language": "python",
   "name": "python3"
  },
  "language_info": {
   "codemirror_mode": {
    "name": "ipython",
    "version": 3
   },
   "file_extension": ".py",
   "mimetype": "text/x-python",
   "name": "python",
   "nbconvert_exporter": "python",
   "pygments_lexer": "ipython3",
   "version": "3.9.13"
  },
  "orig_nbformat": 4
 },
 "nbformat": 4,
 "nbformat_minor": 2
}
