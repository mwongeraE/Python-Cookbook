{
 "cells": [
  {
   "cell_type": "code",
   "execution_count": 7,
   "metadata": {},
   "outputs": [
    {
     "name": "stdout",
     "output_type": "stream",
     "text": [
      "[0, 1, 2, 3, 4, 5, 6, 7, 8, 9]\n",
      "[0, 1, 2, 3, 4, 6, 7, 8, 9]\n",
      "[0, 1, 5, 2, 3, 4, 6, 7, 8, 9]\n"
     ]
    }
   ],
   "source": [
    "def remove(items, value):\n",
    "  neew_items = []\n",
    "  found = False\n",
    "  for item in items:\n",
    "    # Skip the first item which is equal to value\n",
    "    if not found and item == value:\n",
    "      found = True\n",
    "      continue\n",
    "    neew_items.append(item)\n",
    "    \n",
    "  if not found:\n",
    "    raise ValueError('list.remove(x): x not in list')\n",
    "    \n",
    "  return neew_items\n",
    "  \n",
    "  \n",
    "def insert(items, index, value):\n",
    "  new_items = []\n",
    "  for i, item in enumerate(items):\n",
    "    if i == index:\n",
    "      new_items.append(value)\n",
    "        \n",
    "    new_items.append(item)\n",
    "  return new_items\n",
    "\n",
    "\n",
    "items = list(range(10))\n",
    "print(items)\n",
    "\n",
    "items = remove(items, 5)\n",
    "print(items)\n",
    "\n",
    "items = insert(items, 2, 5)\n",
    "print(items)"
   ]
  }
 ],
 "metadata": {
  "kernelspec": {
   "display_name": "Python 3",
   "language": "python",
   "name": "python3"
  },
  "language_info": {
   "codemirror_mode": {
    "name": "ipython",
    "version": 3
   },
   "file_extension": ".py",
   "mimetype": "text/x-python",
   "name": "python",
   "nbconvert_exporter": "python",
   "pygments_lexer": "ipython3",
   "version": "3.9.13"
  },
  "orig_nbformat": 4
 },
 "nbformat": 4,
 "nbformat_minor": 2
}
